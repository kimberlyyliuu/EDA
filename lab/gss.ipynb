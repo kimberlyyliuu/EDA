{
  "cells": [
    {
      "cell_type": "markdown",
      "source": [
        "**Authors:** Kimberly Liu and Isaac Tabor"
      ],
      "metadata": {
        "id": "Tw1SeiezqGpf"
      }
    },
    {
      "cell_type": "markdown",
      "metadata": {
        "id": "Iwrf90lZSg7N"
      },
      "source": [
        "## EDA LAB\n",
        "\n",
        "The General Social Survey (GSS) is a bi-annual nationally representative survey of Americans, with almost 7000 different questions asked since the survey began in the 1970s. It has straightforward questions about respondents' demographic information, but also questions like \"Does your job regularly require you to perform repetitive or forceful hand movements or involve awkward postures?\" or \"How often do the demands of your job interfere with your family life?\" There are a variety of controversial questions. No matter what you're curious about, there's something interesting in here to check out. The codebook is 904 pages (use CTRL+F to search it).\n",
        "\n",
        "The data and codebook are available at:\n",
        "https://gss.norc.org/us/en/gss/get-the-data.html\n",
        "\n",
        "The datasets are so large that it might make sense to pick the variables you want, and then download just those variables from:\n",
        "https://gssdataexplorer.norc.org/variables/vfilter\n",
        "\n",
        "Here is your task:\n",
        "1. Download a small (5-15) set of variables of interest.\n",
        "2. Write a short description of the data you chose, and why. (1 page)\n",
        "3. Load the data using Pandas. Clean them up for EDA. Do this in a notebook with comments or markdown chunks explaining your choices.\n",
        "4. Produce some numeric summaries and visualizations. (1-3 pages)\n",
        "5. Describe your findings in 1-2 pages.\n",
        "6. If you have other content that you think absolutely must be included, you can include it in an appendix of any length.\n",
        "\n",
        "For example, you might want to look at how aspects of a person's childhood family are correlated or not with their career or family choices as an adult. Or how political or religious affiliations correlate with drug use or sexual practices. It's an extremely wide-ranging survey.\n",
        "\n",
        "Feel free to work with other people in groups, and ask questions!"
      ]
    },
    {
      "cell_type": "markdown",
      "source": [
        "## Part 1\n",
        "\n",
        "* Clone the repo below and adjust file path as necessary to import data"
      ],
      "metadata": {
        "id": "qRDXe6FSUimh"
      }
    },
    {
      "cell_type": "code",
      "source": [
        "! git clone https://github.com/kimberlyyliuu/EDA/"
      ],
      "metadata": {
        "colab": {
          "base_uri": "https://localhost:8080/"
        },
        "id": "moONO8uzUImF",
        "outputId": "a3e1df39-83a1-4ffc-e521-9655ffa90366"
      },
      "execution_count": 21,
      "outputs": [
        {
          "output_type": "stream",
          "name": "stdout",
          "text": [
            "fatal: destination path 'EDA' already exists and is not an empty directory.\n"
          ]
        }
      ]
    },
    {
      "cell_type": "code",
      "execution_count": 22,
      "metadata": {
        "colab": {
          "base_uri": "https://localhost:8080/",
          "height": 293
        },
        "id": "Wezvc-7LSg7P",
        "outputId": "770342c8-4722-47b6-de21-a6adcf1f2ead"
      },
      "outputs": [
        {
          "output_type": "execute_result",
          "data": {
            "text/plain": [
              "   year  id_ age     sex   race                        income06  \\\n",
              "0  2010    1  31    MALE  Other                $75000 TO $89999   \n",
              "1  2010    2  23  FEMALE  White                 $15000 TO 17499   \n",
              "2  2010    3  71  FEMALE  Black                 $20000 TO 22499   \n",
              "3  2010    4  82  FEMALE  White                 $8 000 TO 9 999   \n",
              "4  2010    5  78  FEMALE  Black  .d:  Do not Know/Cannot Choose   \n",
              "\n",
              "            rincom06             gunlaw              abany             owngun  \\\n",
              "0   $75000 TO $89999  .i:  Inapplicable  .i:  Inapplicable  .i:  Inapplicable   \n",
              "1    $7 000 TO 7 999  .i:  Inapplicable  .i:  Inapplicable  .i:  Inapplicable   \n",
              "2  .i:  Inapplicable              FAVOR                 NO                 NO   \n",
              "3  .i:  Inapplicable  .i:  Inapplicable  .i:  Inapplicable  .i:  Inapplicable   \n",
              "4  .i:  Inapplicable              FAVOR     .n:  No answer                 NO   \n",
              "\n",
              "   conrinc    ballot  \n",
              "0  66247.5  Ballot b  \n",
              "1   6022.5  Ballot b  \n",
              "2   -100.0  Ballot a  \n",
              "3   -100.0  Ballot b  \n",
              "4   -100.0  Ballot c  "
            ],
            "text/html": [
              "\n",
              "  <div id=\"df-e6f80167-6756-4ed5-a2e6-08aec2ffe6e1\" class=\"colab-df-container\">\n",
              "    <div>\n",
              "<style scoped>\n",
              "    .dataframe tbody tr th:only-of-type {\n",
              "        vertical-align: middle;\n",
              "    }\n",
              "\n",
              "    .dataframe tbody tr th {\n",
              "        vertical-align: top;\n",
              "    }\n",
              "\n",
              "    .dataframe thead th {\n",
              "        text-align: right;\n",
              "    }\n",
              "</style>\n",
              "<table border=\"1\" class=\"dataframe\">\n",
              "  <thead>\n",
              "    <tr style=\"text-align: right;\">\n",
              "      <th></th>\n",
              "      <th>year</th>\n",
              "      <th>id_</th>\n",
              "      <th>age</th>\n",
              "      <th>sex</th>\n",
              "      <th>race</th>\n",
              "      <th>income06</th>\n",
              "      <th>rincom06</th>\n",
              "      <th>gunlaw</th>\n",
              "      <th>abany</th>\n",
              "      <th>owngun</th>\n",
              "      <th>conrinc</th>\n",
              "      <th>ballot</th>\n",
              "    </tr>\n",
              "  </thead>\n",
              "  <tbody>\n",
              "    <tr>\n",
              "      <th>0</th>\n",
              "      <td>2010</td>\n",
              "      <td>1</td>\n",
              "      <td>31</td>\n",
              "      <td>MALE</td>\n",
              "      <td>Other</td>\n",
              "      <td>$75000 TO $89999</td>\n",
              "      <td>$75000 TO $89999</td>\n",
              "      <td>.i:  Inapplicable</td>\n",
              "      <td>.i:  Inapplicable</td>\n",
              "      <td>.i:  Inapplicable</td>\n",
              "      <td>66247.5</td>\n",
              "      <td>Ballot b</td>\n",
              "    </tr>\n",
              "    <tr>\n",
              "      <th>1</th>\n",
              "      <td>2010</td>\n",
              "      <td>2</td>\n",
              "      <td>23</td>\n",
              "      <td>FEMALE</td>\n",
              "      <td>White</td>\n",
              "      <td>$15000 TO 17499</td>\n",
              "      <td>$7 000 TO 7 999</td>\n",
              "      <td>.i:  Inapplicable</td>\n",
              "      <td>.i:  Inapplicable</td>\n",
              "      <td>.i:  Inapplicable</td>\n",
              "      <td>6022.5</td>\n",
              "      <td>Ballot b</td>\n",
              "    </tr>\n",
              "    <tr>\n",
              "      <th>2</th>\n",
              "      <td>2010</td>\n",
              "      <td>3</td>\n",
              "      <td>71</td>\n",
              "      <td>FEMALE</td>\n",
              "      <td>Black</td>\n",
              "      <td>$20000 TO 22499</td>\n",
              "      <td>.i:  Inapplicable</td>\n",
              "      <td>FAVOR</td>\n",
              "      <td>NO</td>\n",
              "      <td>NO</td>\n",
              "      <td>-100.0</td>\n",
              "      <td>Ballot a</td>\n",
              "    </tr>\n",
              "    <tr>\n",
              "      <th>3</th>\n",
              "      <td>2010</td>\n",
              "      <td>4</td>\n",
              "      <td>82</td>\n",
              "      <td>FEMALE</td>\n",
              "      <td>White</td>\n",
              "      <td>$8 000 TO 9 999</td>\n",
              "      <td>.i:  Inapplicable</td>\n",
              "      <td>.i:  Inapplicable</td>\n",
              "      <td>.i:  Inapplicable</td>\n",
              "      <td>.i:  Inapplicable</td>\n",
              "      <td>-100.0</td>\n",
              "      <td>Ballot b</td>\n",
              "    </tr>\n",
              "    <tr>\n",
              "      <th>4</th>\n",
              "      <td>2010</td>\n",
              "      <td>5</td>\n",
              "      <td>78</td>\n",
              "      <td>FEMALE</td>\n",
              "      <td>Black</td>\n",
              "      <td>.d:  Do not Know/Cannot Choose</td>\n",
              "      <td>.i:  Inapplicable</td>\n",
              "      <td>FAVOR</td>\n",
              "      <td>.n:  No answer</td>\n",
              "      <td>NO</td>\n",
              "      <td>-100.0</td>\n",
              "      <td>Ballot c</td>\n",
              "    </tr>\n",
              "  </tbody>\n",
              "</table>\n",
              "</div>\n",
              "    <div class=\"colab-df-buttons\">\n",
              "\n",
              "  <div class=\"colab-df-container\">\n",
              "    <button class=\"colab-df-convert\" onclick=\"convertToInteractive('df-e6f80167-6756-4ed5-a2e6-08aec2ffe6e1')\"\n",
              "            title=\"Convert this dataframe to an interactive table.\"\n",
              "            style=\"display:none;\">\n",
              "\n",
              "  <svg xmlns=\"http://www.w3.org/2000/svg\" height=\"24px\" viewBox=\"0 -960 960 960\">\n",
              "    <path d=\"M120-120v-720h720v720H120Zm60-500h600v-160H180v160Zm220 220h160v-160H400v160Zm0 220h160v-160H400v160ZM180-400h160v-160H180v160Zm440 0h160v-160H620v160ZM180-180h160v-160H180v160Zm440 0h160v-160H620v160Z\"/>\n",
              "  </svg>\n",
              "    </button>\n",
              "\n",
              "  <style>\n",
              "    .colab-df-container {\n",
              "      display:flex;\n",
              "      gap: 12px;\n",
              "    }\n",
              "\n",
              "    .colab-df-convert {\n",
              "      background-color: #E8F0FE;\n",
              "      border: none;\n",
              "      border-radius: 50%;\n",
              "      cursor: pointer;\n",
              "      display: none;\n",
              "      fill: #1967D2;\n",
              "      height: 32px;\n",
              "      padding: 0 0 0 0;\n",
              "      width: 32px;\n",
              "    }\n",
              "\n",
              "    .colab-df-convert:hover {\n",
              "      background-color: #E2EBFA;\n",
              "      box-shadow: 0px 1px 2px rgba(60, 64, 67, 0.3), 0px 1px 3px 1px rgba(60, 64, 67, 0.15);\n",
              "      fill: #174EA6;\n",
              "    }\n",
              "\n",
              "    .colab-df-buttons div {\n",
              "      margin-bottom: 4px;\n",
              "    }\n",
              "\n",
              "    [theme=dark] .colab-df-convert {\n",
              "      background-color: #3B4455;\n",
              "      fill: #D2E3FC;\n",
              "    }\n",
              "\n",
              "    [theme=dark] .colab-df-convert:hover {\n",
              "      background-color: #434B5C;\n",
              "      box-shadow: 0px 1px 3px 1px rgba(0, 0, 0, 0.15);\n",
              "      filter: drop-shadow(0px 1px 2px rgba(0, 0, 0, 0.3));\n",
              "      fill: #FFFFFF;\n",
              "    }\n",
              "  </style>\n",
              "\n",
              "    <script>\n",
              "      const buttonEl =\n",
              "        document.querySelector('#df-e6f80167-6756-4ed5-a2e6-08aec2ffe6e1 button.colab-df-convert');\n",
              "      buttonEl.style.display =\n",
              "        google.colab.kernel.accessAllowed ? 'block' : 'none';\n",
              "\n",
              "      async function convertToInteractive(key) {\n",
              "        const element = document.querySelector('#df-e6f80167-6756-4ed5-a2e6-08aec2ffe6e1');\n",
              "        const dataTable =\n",
              "          await google.colab.kernel.invokeFunction('convertToInteractive',\n",
              "                                                    [key], {});\n",
              "        if (!dataTable) return;\n",
              "\n",
              "        const docLinkHtml = 'Like what you see? Visit the ' +\n",
              "          '<a target=\"_blank\" href=https://colab.research.google.com/notebooks/data_table.ipynb>data table notebook</a>'\n",
              "          + ' to learn more about interactive tables.';\n",
              "        element.innerHTML = '';\n",
              "        dataTable['output_type'] = 'display_data';\n",
              "        await google.colab.output.renderOutput(dataTable, element);\n",
              "        const docLink = document.createElement('div');\n",
              "        docLink.innerHTML = docLinkHtml;\n",
              "        element.appendChild(docLink);\n",
              "      }\n",
              "    </script>\n",
              "  </div>\n",
              "\n",
              "\n",
              "<div id=\"df-6f1cc599-240e-4a70-8e5c-4e3f2cbcab53\">\n",
              "  <button class=\"colab-df-quickchart\" onclick=\"quickchart('df-6f1cc599-240e-4a70-8e5c-4e3f2cbcab53')\"\n",
              "            title=\"Suggest charts\"\n",
              "            style=\"display:none;\">\n",
              "\n",
              "<svg xmlns=\"http://www.w3.org/2000/svg\" height=\"24px\"viewBox=\"0 0 24 24\"\n",
              "     width=\"24px\">\n",
              "    <g>\n",
              "        <path d=\"M19 3H5c-1.1 0-2 .9-2 2v14c0 1.1.9 2 2 2h14c1.1 0 2-.9 2-2V5c0-1.1-.9-2-2-2zM9 17H7v-7h2v7zm4 0h-2V7h2v10zm4 0h-2v-4h2v4z\"/>\n",
              "    </g>\n",
              "</svg>\n",
              "  </button>\n",
              "\n",
              "<style>\n",
              "  .colab-df-quickchart {\n",
              "      --bg-color: #E8F0FE;\n",
              "      --fill-color: #1967D2;\n",
              "      --hover-bg-color: #E2EBFA;\n",
              "      --hover-fill-color: #174EA6;\n",
              "      --disabled-fill-color: #AAA;\n",
              "      --disabled-bg-color: #DDD;\n",
              "  }\n",
              "\n",
              "  [theme=dark] .colab-df-quickchart {\n",
              "      --bg-color: #3B4455;\n",
              "      --fill-color: #D2E3FC;\n",
              "      --hover-bg-color: #434B5C;\n",
              "      --hover-fill-color: #FFFFFF;\n",
              "      --disabled-bg-color: #3B4455;\n",
              "      --disabled-fill-color: #666;\n",
              "  }\n",
              "\n",
              "  .colab-df-quickchart {\n",
              "    background-color: var(--bg-color);\n",
              "    border: none;\n",
              "    border-radius: 50%;\n",
              "    cursor: pointer;\n",
              "    display: none;\n",
              "    fill: var(--fill-color);\n",
              "    height: 32px;\n",
              "    padding: 0;\n",
              "    width: 32px;\n",
              "  }\n",
              "\n",
              "  .colab-df-quickchart:hover {\n",
              "    background-color: var(--hover-bg-color);\n",
              "    box-shadow: 0 1px 2px rgba(60, 64, 67, 0.3), 0 1px 3px 1px rgba(60, 64, 67, 0.15);\n",
              "    fill: var(--button-hover-fill-color);\n",
              "  }\n",
              "\n",
              "  .colab-df-quickchart-complete:disabled,\n",
              "  .colab-df-quickchart-complete:disabled:hover {\n",
              "    background-color: var(--disabled-bg-color);\n",
              "    fill: var(--disabled-fill-color);\n",
              "    box-shadow: none;\n",
              "  }\n",
              "\n",
              "  .colab-df-spinner {\n",
              "    border: 2px solid var(--fill-color);\n",
              "    border-color: transparent;\n",
              "    border-bottom-color: var(--fill-color);\n",
              "    animation:\n",
              "      spin 1s steps(1) infinite;\n",
              "  }\n",
              "\n",
              "  @keyframes spin {\n",
              "    0% {\n",
              "      border-color: transparent;\n",
              "      border-bottom-color: var(--fill-color);\n",
              "      border-left-color: var(--fill-color);\n",
              "    }\n",
              "    20% {\n",
              "      border-color: transparent;\n",
              "      border-left-color: var(--fill-color);\n",
              "      border-top-color: var(--fill-color);\n",
              "    }\n",
              "    30% {\n",
              "      border-color: transparent;\n",
              "      border-left-color: var(--fill-color);\n",
              "      border-top-color: var(--fill-color);\n",
              "      border-right-color: var(--fill-color);\n",
              "    }\n",
              "    40% {\n",
              "      border-color: transparent;\n",
              "      border-right-color: var(--fill-color);\n",
              "      border-top-color: var(--fill-color);\n",
              "    }\n",
              "    60% {\n",
              "      border-color: transparent;\n",
              "      border-right-color: var(--fill-color);\n",
              "    }\n",
              "    80% {\n",
              "      border-color: transparent;\n",
              "      border-right-color: var(--fill-color);\n",
              "      border-bottom-color: var(--fill-color);\n",
              "    }\n",
              "    90% {\n",
              "      border-color: transparent;\n",
              "      border-bottom-color: var(--fill-color);\n",
              "    }\n",
              "  }\n",
              "</style>\n",
              "\n",
              "  <script>\n",
              "    async function quickchart(key) {\n",
              "      const quickchartButtonEl =\n",
              "        document.querySelector('#' + key + ' button');\n",
              "      quickchartButtonEl.disabled = true;  // To prevent multiple clicks.\n",
              "      quickchartButtonEl.classList.add('colab-df-spinner');\n",
              "      try {\n",
              "        const charts = await google.colab.kernel.invokeFunction(\n",
              "            'suggestCharts', [key], {});\n",
              "      } catch (error) {\n",
              "        console.error('Error during call to suggestCharts:', error);\n",
              "      }\n",
              "      quickchartButtonEl.classList.remove('colab-df-spinner');\n",
              "      quickchartButtonEl.classList.add('colab-df-quickchart-complete');\n",
              "    }\n",
              "    (() => {\n",
              "      let quickchartButtonEl =\n",
              "        document.querySelector('#df-6f1cc599-240e-4a70-8e5c-4e3f2cbcab53 button');\n",
              "      quickchartButtonEl.style.display =\n",
              "        google.colab.kernel.accessAllowed ? 'block' : 'none';\n",
              "    })();\n",
              "  </script>\n",
              "</div>\n",
              "\n",
              "    </div>\n",
              "  </div>\n"
            ],
            "application/vnd.google.colaboratory.intrinsic+json": {
              "type": "dataframe",
              "variable_name": "df",
              "summary": "{\n  \"name\": \"df\",\n  \"rows\": 11771,\n  \"fields\": [\n    {\n      \"column\": \"year\",\n      \"properties\": {\n        \"dtype\": \"number\",\n        \"std\": 2,\n        \"min\": 2010,\n        \"max\": 2018,\n        \"num_unique_values\": 5,\n        \"samples\": [\n          2012,\n          2018,\n          2014\n        ],\n        \"semantic_type\": \"\",\n        \"description\": \"\"\n      }\n    },\n    {\n      \"column\": \"id_\",\n      \"properties\": {\n        \"dtype\": \"number\",\n        \"std\": 719,\n        \"min\": 1,\n        \"max\": 2867,\n        \"num_unique_values\": 2867,\n        \"samples\": [\n          444,\n          1544,\n          762\n        ],\n        \"semantic_type\": \"\",\n        \"description\": \"\"\n      }\n    },\n    {\n      \"column\": \"age\",\n      \"properties\": {\n        \"dtype\": \"category\",\n        \"num_unique_values\": 73,\n        \"samples\": [\n          \"78\",\n          \"76\",\n          \"56\"\n        ],\n        \"semantic_type\": \"\",\n        \"description\": \"\"\n      }\n    },\n    {\n      \"column\": \"sex\",\n      \"properties\": {\n        \"dtype\": \"category\",\n        \"num_unique_values\": 2,\n        \"samples\": [\n          \"FEMALE\",\n          \"MALE\"\n        ],\n        \"semantic_type\": \"\",\n        \"description\": \"\"\n      }\n    },\n    {\n      \"column\": \"race\",\n      \"properties\": {\n        \"dtype\": \"category\",\n        \"num_unique_values\": 3,\n        \"samples\": [\n          \"Other\",\n          \"White\"\n        ],\n        \"semantic_type\": \"\",\n        \"description\": \"\"\n      }\n    },\n    {\n      \"column\": \"income06\",\n      \"properties\": {\n        \"dtype\": \"category\",\n        \"num_unique_values\": 28,\n        \"samples\": [\n          \"$90000 TO $109999\",\n          \"$7 000 TO 7 999\"\n        ],\n        \"semantic_type\": \"\",\n        \"description\": \"\"\n      }\n    },\n    {\n      \"column\": \"rincom06\",\n      \"properties\": {\n        \"dtype\": \"category\",\n        \"num_unique_values\": 28,\n        \"samples\": [\n          \"$110000 TO $129999\",\n          \".d:  Do not Know/Cannot Choose\"\n        ],\n        \"semantic_type\": \"\",\n        \"description\": \"\"\n      }\n    },\n    {\n      \"column\": \"gunlaw\",\n      \"properties\": {\n        \"dtype\": \"category\",\n        \"num_unique_values\": 5,\n        \"samples\": [\n          \"FAVOR\",\n          \".n:  No answer\"\n        ],\n        \"semantic_type\": \"\",\n        \"description\": \"\"\n      }\n    },\n    {\n      \"column\": \"abany\",\n      \"properties\": {\n        \"dtype\": \"category\",\n        \"num_unique_values\": 5,\n        \"samples\": [\n          \"NO\",\n          \".d:  Do not Know/Cannot Choose\"\n        ],\n        \"semantic_type\": \"\",\n        \"description\": \"\"\n      }\n    },\n    {\n      \"column\": \"owngun\",\n      \"properties\": {\n        \"dtype\": \"category\",\n        \"num_unique_values\": 5,\n        \"samples\": [\n          \"NO\",\n          \".d:  Do not Know/Cannot Choose\"\n        ],\n        \"semantic_type\": \"\",\n        \"description\": \"\"\n      }\n    },\n    {\n      \"column\": \"conrinc\",\n      \"properties\": {\n        \"dtype\": \"number\",\n        \"std\": 34123.643742369306,\n        \"min\": -100.0,\n        \"max\": 324512.29214,\n        \"num_unique_values\": 128,\n        \"samples\": [\n          33255.0,\n          18192.5\n        ],\n        \"semantic_type\": \"\",\n        \"description\": \"\"\n      }\n    },\n    {\n      \"column\": \"ballot\",\n      \"properties\": {\n        \"dtype\": \"category\",\n        \"num_unique_values\": 3,\n        \"samples\": [\n          \"Ballot b\",\n          \"Ballot a\"\n        ],\n        \"semantic_type\": \"\",\n        \"description\": \"\"\n      }\n    }\n  ]\n}"
            }
          },
          "metadata": {},
          "execution_count": 22
        }
      ],
      "source": [
        "import pandas as pd\n",
        "\n",
        "df = pd.read_excel('/content/EDA/lab/GSS.xlsx')\n",
        "df.head()"
      ]
    },
    {
      "cell_type": "markdown",
      "source": [
        "## Part 2\n",
        "\n",
        "**Data Description and Background**\n",
        "\n",
        "> As mentioned above, the data we collected comes from the General Social Survey (GSS), a bi-annual nationally representative American  survey of Americans with an abundant of variables to choose from. In short, it is very good data on a lot of interesting topics. We chose to extract 12 variables to form a dataset of 11,771 entries.\n",
        "\n",
        "> Our dataset primarily surrounds capturing attitudes on particular social issues of interest. Specifically, we selected the gunlaw variable, which contains an OPPOSE or FAVOR response to the question, \"Would you favor or oppose a law which would require a person to obtain a police permit before he or she could buy a gun?\" Additionally, we chose the abany vaiable, which is a response to whether the respondent believes it should be possible for a pregnant woman to obtain a legal abortion if the woman wants it for any reason.\n",
        "\n",
        "> To support those primary variables of interest, we also collected the year variable, which corresponds to the  GSS year for the respondent, and the id_ variable, which is a respondent's unique identification number. Additionally, we gathered demographic and economic information on each respondent.\n",
        "\n",
        "\n",
        "> The demographic variables we collected are age, sex, race, and owngun (whether someone has a gun or revolver in their house or garage). The economic variables we gathered on each respondent are income06 and rincome06, which refer to total family and respondent income, respectively. This income data is available for years 2006, 2008, 2010, 2012, and 2014. Additionally, we gathered conrincome, which is inflation adjusted personal income.\n",
        "\n",
        "> With this data collected, we felt confident in being able to form an analysis on public opinion on controversial topics, and gain a deeper perspective of American society on these issues.   \n",
        "\n"
      ],
      "metadata": {
        "id": "alEpraVgUwY8"
      }
    },
    {
      "cell_type": "markdown",
      "source": [
        "## Part 3: Data Cleaning with Explanation of Choices\n"
      ],
      "metadata": {
        "id": "JMCUQdziebxP"
      }
    },
    {
      "cell_type": "code",
      "source": [
        "df.info()"
      ],
      "metadata": {
        "colab": {
          "base_uri": "https://localhost:8080/"
        },
        "id": "L3oFX02GVa9a",
        "outputId": "23083cb3-0424-4f55-e467-5d9c8a044e02"
      },
      "execution_count": 23,
      "outputs": [
        {
          "output_type": "stream",
          "name": "stdout",
          "text": [
            "<class 'pandas.core.frame.DataFrame'>\n",
            "RangeIndex: 11771 entries, 0 to 11770\n",
            "Data columns (total 12 columns):\n",
            " #   Column    Non-Null Count  Dtype  \n",
            "---  ------    --------------  -----  \n",
            " 0   year      11771 non-null  int64  \n",
            " 1   id_       11771 non-null  int64  \n",
            " 2   age       11771 non-null  object \n",
            " 3   sex       11771 non-null  object \n",
            " 4   race      11771 non-null  object \n",
            " 5   income06  11771 non-null  object \n",
            " 6   rincom06  11771 non-null  object \n",
            " 7   gunlaw    11771 non-null  object \n",
            " 8   abany     11771 non-null  object \n",
            " 9   owngun    11771 non-null  object \n",
            " 10  conrinc   11771 non-null  float64\n",
            " 11  ballot    11771 non-null  object \n",
            "dtypes: float64(1), int64(2), object(9)\n",
            "memory usage: 1.1+ MB\n"
          ]
        }
      ]
    },
    {
      "cell_type": "markdown",
      "source": [
        "\n",
        "\n",
        "*   From this concise summary and the first five rows of the dataframe, we can immediately see that **age**, **income06**, and **rincome06** are not appropriately stored as numeric variables\n",
        "\n"
      ],
      "metadata": {
        "id": "0EdHjk-he88x"
      }
    },
    {
      "cell_type": "markdown",
      "source": [
        "**Cleaning age column**"
      ],
      "metadata": {
        "id": "PAkKzamCh246"
      }
    },
    {
      "cell_type": "code",
      "source": [
        "df['age'].unique()"
      ],
      "metadata": {
        "colab": {
          "base_uri": "https://localhost:8080/"
        },
        "id": "ZrPRL2b8fvE8",
        "outputId": "d1772e38-c7fc-4291-9532-47b1d82d7536"
      },
      "execution_count": 24,
      "outputs": [
        {
          "output_type": "execute_result",
          "data": {
            "text/plain": [
              "array(['31', '23', '71', '82', '78', '40', '46', '80', '.n:  No answer',\n",
              "       '21', '58', '36', '57', '28', '84', '51', '35', '49', '56', '88',\n",
              "       '26', '33', '53', '63', '34', '75', '43', '83', '69', '24', '25',\n",
              "       '66', '20', '37', '64', '45', '60', '22', '72', '42', '54', '41',\n",
              "       '19', '44', '50', '39', '48', '38', '55', '59', '68', '61', '65',\n",
              "       '27', '32', '52', '47', '70', '30', '29', '67', '89 or older',\n",
              "       '18', '76', '79', '73', '62', '77', '85', '81', '86', '74', '87'],\n",
              "      dtype=object)"
            ]
          },
          "metadata": {},
          "execution_count": 24
        }
      ]
    },
    {
      "cell_type": "markdown",
      "source": [
        "\n",
        "\n",
        "*   By analyzing unique values, we can see that values **'.n:  No answer',** and **'89 or older'** need to be cleaned\n",
        "\n",
        "*   We decided that '.n: No answer' should be replaced with np.nan to be treated appropriately with data analysis\n",
        "\n",
        "*   We decided that '89 or older' should be replaced with 89 to preserve the dataset's numeric integrity and to minimize assumptions because we felt it would be too speculative to assign 95, for example.\n",
        "\n",
        "\n",
        "\n",
        "\n",
        "\n"
      ],
      "metadata": {
        "id": "WjHKdykyf6IP"
      }
    },
    {
      "cell_type": "code",
      "source": [
        "import numpy as np\n",
        "\n",
        "# Cleaning age column\n",
        "\n",
        "df['age'] = df['age'].replace({\n",
        "    '.n:  No answer': np.nan,\n",
        "    '89 or older': 89\n",
        "})\n",
        "\n",
        "df['age'] = pd.to_numeric(df['age'])\n",
        "\n",
        "print(df['age'].unique())\n",
        "print(df['age'].dtype)"
      ],
      "metadata": {
        "colab": {
          "base_uri": "https://localhost:8080/"
        },
        "id": "4cnV51irhE9K",
        "outputId": "35cc0888-caab-4130-e60c-2f45effafcd4"
      },
      "execution_count": 25,
      "outputs": [
        {
          "output_type": "stream",
          "name": "stdout",
          "text": [
            "[31. 23. 71. 82. 78. 40. 46. 80. nan 21. 58. 36. 57. 28. 84. 51. 35. 49.\n",
            " 56. 88. 26. 33. 53. 63. 34. 75. 43. 83. 69. 24. 25. 66. 20. 37. 64. 45.\n",
            " 60. 22. 72. 42. 54. 41. 19. 44. 50. 39. 48. 38. 55. 59. 68. 61. 65. 27.\n",
            " 32. 52. 47. 70. 30. 29. 67. 89. 18. 76. 79. 73. 62. 77. 85. 81. 86. 74.\n",
            " 87.]\n",
            "float64\n"
          ]
        }
      ]
    },
    {
      "cell_type": "markdown",
      "source": [
        "**Cleaning income columns**"
      ],
      "metadata": {
        "id": "NbGsT1zeiLlW"
      }
    },
    {
      "cell_type": "code",
      "source": [
        "df['income06'].unique()"
      ],
      "metadata": {
        "colab": {
          "base_uri": "https://localhost:8080/"
        },
        "id": "dcLXeNwIiPgl",
        "outputId": "1d2c9b7b-b747-47e9-f6a3-9cbd4dcf8faf"
      },
      "execution_count": 26,
      "outputs": [
        {
          "output_type": "execute_result",
          "data": {
            "text/plain": [
              "array(['$75000 TO $89999', '$15000 TO 17499', '$20000 TO 22499',\n",
              "       '$8 000 TO 9 999', '.d:  Do not Know/Cannot Choose',\n",
              "       '$10000 TO 12499', '.r:  Refused', '$50000 TO 59999',\n",
              "       '$40000 TO 49999', '$90000 TO $109999', '$22500 TO 24999',\n",
              "       '$4 000 TO 4 999', '$12500 TO 14999', '$60000 TO 74999',\n",
              "       '$3 000 TO 3 999', '$150000 OR OVER', '$5 000 TO 5 999',\n",
              "       '$130000 TO $149999', '$17500 TO 19999', '$25000 TO 29999',\n",
              "       '$110000 TO $129999', '$30000 TO 34999', 'UNDER $1 000',\n",
              "       '$35000 TO 39999', '$1 000 TO 2 999', '$7 000 TO 7 999',\n",
              "       '$6 000 TO 6 999', '.i:  Inapplicable'], dtype=object)"
            ]
          },
          "metadata": {},
          "execution_count": 26
        }
      ]
    },
    {
      "cell_type": "code",
      "source": [
        "df['year'].unique()"
      ],
      "metadata": {
        "colab": {
          "base_uri": "https://localhost:8080/"
        },
        "id": "It60VIIOl3Il",
        "outputId": "92d6f2ad-87e6-4b39-8745-89c1312759a2"
      },
      "execution_count": 32,
      "outputs": [
        {
          "output_type": "execute_result",
          "data": {
            "text/plain": [
              "array([2010, 2012, 2014, 2016, 2018])"
            ]
          },
          "metadata": {},
          "execution_count": 32
        }
      ]
    },
    {
      "cell_type": "markdown",
      "source": [
        "\n",
        "\n",
        "*   Noting here that in gss documentation, it has income06 and rincome06 had data available for years 2006, 2008, 2010, 2012, and 2014, and our data ranges for 2010-2018\n",
        "\n"
      ],
      "metadata": {
        "id": "w9dreAAumfgv"
      }
    },
    {
      "cell_type": "markdown",
      "source": [
        "* We could clean this or we could just use **conrincome** since that is inflation-adjusted and a clean numeric value."
      ],
      "metadata": {
        "id": "pL-Z8nkHjXdq"
      }
    },
    {
      "cell_type": "code",
      "source": [
        "df['conrinc'].describe()"
      ],
      "metadata": {
        "colab": {
          "base_uri": "https://localhost:8080/",
          "height": 335
        },
        "id": "OA7Ovgq1k-MW",
        "outputId": "d8ef678a-3bb0-4660-d6de-ff3edb387a06"
      },
      "execution_count": 29,
      "outputs": [
        {
          "output_type": "execute_result",
          "data": {
            "text/plain": [
              "count     11771.000000\n",
              "mean      20298.998512\n",
              "std       34123.643742\n",
              "min        -100.000000\n",
              "25%        -100.000000\n",
              "50%        6309.000000\n",
              "75%       30112.500000\n",
              "max      324512.292140\n",
              "Name: conrinc, dtype: float64"
            ],
            "text/html": [
              "<div>\n",
              "<style scoped>\n",
              "    .dataframe tbody tr th:only-of-type {\n",
              "        vertical-align: middle;\n",
              "    }\n",
              "\n",
              "    .dataframe tbody tr th {\n",
              "        vertical-align: top;\n",
              "    }\n",
              "\n",
              "    .dataframe thead th {\n",
              "        text-align: right;\n",
              "    }\n",
              "</style>\n",
              "<table border=\"1\" class=\"dataframe\">\n",
              "  <thead>\n",
              "    <tr style=\"text-align: right;\">\n",
              "      <th></th>\n",
              "      <th>conrinc</th>\n",
              "    </tr>\n",
              "  </thead>\n",
              "  <tbody>\n",
              "    <tr>\n",
              "      <th>count</th>\n",
              "      <td>11771.000000</td>\n",
              "    </tr>\n",
              "    <tr>\n",
              "      <th>mean</th>\n",
              "      <td>20298.998512</td>\n",
              "    </tr>\n",
              "    <tr>\n",
              "      <th>std</th>\n",
              "      <td>34123.643742</td>\n",
              "    </tr>\n",
              "    <tr>\n",
              "      <th>min</th>\n",
              "      <td>-100.000000</td>\n",
              "    </tr>\n",
              "    <tr>\n",
              "      <th>25%</th>\n",
              "      <td>-100.000000</td>\n",
              "    </tr>\n",
              "    <tr>\n",
              "      <th>50%</th>\n",
              "      <td>6309.000000</td>\n",
              "    </tr>\n",
              "    <tr>\n",
              "      <th>75%</th>\n",
              "      <td>30112.500000</td>\n",
              "    </tr>\n",
              "    <tr>\n",
              "      <th>max</th>\n",
              "      <td>324512.292140</td>\n",
              "    </tr>\n",
              "  </tbody>\n",
              "</table>\n",
              "</div><br><label><b>dtype:</b> float64</label>"
            ]
          },
          "metadata": {},
          "execution_count": 29
        }
      ]
    },
    {
      "cell_type": "code",
      "source": [
        "(df['conrinc'] == -100).sum() / len(df)"
      ],
      "metadata": {
        "colab": {
          "base_uri": "https://localhost:8080/"
        },
        "id": "zHBTTOPCkA2i",
        "outputId": "79e98bae-9840-4fe3-b2b3-d223718d0e14"
      },
      "execution_count": 30,
      "outputs": [
        {
          "output_type": "execute_result",
          "data": {
            "text/plain": [
              "0.41670206439554835"
            ]
          },
          "metadata": {},
          "execution_count": 30
        }
      ]
    },
    {
      "cell_type": "code",
      "source": [
        "sum(df['conrinc'].isna())"
      ],
      "metadata": {
        "colab": {
          "base_uri": "https://localhost:8080/"
        },
        "id": "_Gz8DF42leCR",
        "outputId": "afda03aa-295a-403b-e72c-cf8951996630"
      },
      "execution_count": 31,
      "outputs": [
        {
          "output_type": "execute_result",
          "data": {
            "text/plain": [
              "0"
            ]
          },
          "metadata": {},
          "execution_count": 31
        }
      ]
    },
    {
      "cell_type": "markdown",
      "source": [
        "*   It appears that for **conrinc**, -100 is being used to report unknown income and that accounts for 41.67% of our conrinc data.\n"
      ],
      "metadata": {
        "id": "3RlSA027nuTP"
      }
    },
    {
      "cell_type": "code",
      "source": [
        "df[df['conrinc'] == -100].groupby('year').size()"
      ],
      "metadata": {
        "colab": {
          "base_uri": "https://localhost:8080/",
          "height": 272
        },
        "id": "wgAMkyv-nnjK",
        "outputId": "c3acffaf-8deb-40fa-f3d4-1c2251fb2087"
      },
      "execution_count": 33,
      "outputs": [
        {
          "output_type": "execute_result",
          "data": {
            "text/plain": [
              "year\n",
              "2010     842\n",
              "2012     828\n",
              "2014    1015\n",
              "2016    1235\n",
              "2018     985\n",
              "dtype: int64"
            ],
            "text/html": [
              "<div>\n",
              "<style scoped>\n",
              "    .dataframe tbody tr th:only-of-type {\n",
              "        vertical-align: middle;\n",
              "    }\n",
              "\n",
              "    .dataframe tbody tr th {\n",
              "        vertical-align: top;\n",
              "    }\n",
              "\n",
              "    .dataframe thead th {\n",
              "        text-align: right;\n",
              "    }\n",
              "</style>\n",
              "<table border=\"1\" class=\"dataframe\">\n",
              "  <thead>\n",
              "    <tr style=\"text-align: right;\">\n",
              "      <th></th>\n",
              "      <th>0</th>\n",
              "    </tr>\n",
              "    <tr>\n",
              "      <th>year</th>\n",
              "      <th></th>\n",
              "    </tr>\n",
              "  </thead>\n",
              "  <tbody>\n",
              "    <tr>\n",
              "      <th>2010</th>\n",
              "      <td>842</td>\n",
              "    </tr>\n",
              "    <tr>\n",
              "      <th>2012</th>\n",
              "      <td>828</td>\n",
              "    </tr>\n",
              "    <tr>\n",
              "      <th>2014</th>\n",
              "      <td>1015</td>\n",
              "    </tr>\n",
              "    <tr>\n",
              "      <th>2016</th>\n",
              "      <td>1235</td>\n",
              "    </tr>\n",
              "    <tr>\n",
              "      <th>2018</th>\n",
              "      <td>985</td>\n",
              "    </tr>\n",
              "  </tbody>\n",
              "</table>\n",
              "</div><br><label><b>dtype:</b> int64</label>"
            ]
          },
          "metadata": {},
          "execution_count": 33
        }
      ]
    },
    {
      "cell_type": "markdown",
      "source": [
        "\n",
        "\n",
        "*   The missing data is not disproprotinately associated with one year or anything\n",
        "\n",
        "For now, we will replace these values with np.nan to treat these values appropriately in data analysis.\n",
        "\n",
        "\n",
        "\n",
        "\n"
      ],
      "metadata": {
        "id": "YQGh0oUplkpB"
      }
    },
    {
      "cell_type": "code",
      "source": [
        "df['conrinc'] = df['conrinc'].replace(-100, np.nan)"
      ],
      "metadata": {
        "id": "kuf_gohPnI5u"
      },
      "execution_count": 36,
      "outputs": []
    },
    {
      "cell_type": "markdown",
      "source": [
        "**Checking Other Columns**"
      ],
      "metadata": {
        "id": "Zw-UfrjwoiuL"
      }
    },
    {
      "cell_type": "code",
      "source": [
        "df['sex'].unique()"
      ],
      "metadata": {
        "colab": {
          "base_uri": "https://localhost:8080/"
        },
        "id": "lcMZyOmRolG-",
        "outputId": "21694fee-de59-4392-b834-caf80db9fbe3"
      },
      "execution_count": 37,
      "outputs": [
        {
          "output_type": "execute_result",
          "data": {
            "text/plain": [
              "array(['MALE', 'FEMALE'], dtype=object)"
            ]
          },
          "metadata": {},
          "execution_count": 37
        }
      ]
    },
    {
      "cell_type": "code",
      "source": [
        "df['race'].unique()"
      ],
      "metadata": {
        "colab": {
          "base_uri": "https://localhost:8080/"
        },
        "id": "9AB0e9_Uow3L",
        "outputId": "262b36a8-a047-4c5d-c5f4-8037f5452d79"
      },
      "execution_count": 38,
      "outputs": [
        {
          "output_type": "execute_result",
          "data": {
            "text/plain": [
              "array(['Other', 'White', 'Black'], dtype=object)"
            ]
          },
          "metadata": {},
          "execution_count": 38
        }
      ]
    },
    {
      "cell_type": "markdown",
      "source": [
        "\n",
        "*   This is important to note in our analysis\n",
        "\n"
      ],
      "metadata": {
        "id": "qcDoIRbko0iP"
      }
    },
    {
      "cell_type": "code",
      "source": [
        "df['gunlaw'].unique()"
      ],
      "metadata": {
        "colab": {
          "base_uri": "https://localhost:8080/"
        },
        "id": "F8vOsLjgo5nR",
        "outputId": "15847a81-608d-428d-889c-5f8cd2a51d97"
      },
      "execution_count": 39,
      "outputs": [
        {
          "output_type": "execute_result",
          "data": {
            "text/plain": [
              "array(['.i:  Inapplicable', 'FAVOR', 'OPPOSE',\n",
              "       '.d:  Do not Know/Cannot Choose', '.n:  No answer'], dtype=object)"
            ]
          },
          "metadata": {},
          "execution_count": 39
        }
      ]
    },
    {
      "cell_type": "code",
      "source": [
        "df['abany'].unique()"
      ],
      "metadata": {
        "colab": {
          "base_uri": "https://localhost:8080/"
        },
        "id": "Idn5D52_pO03",
        "outputId": "c352a023-13d2-403f-adaa-7fae13ea3561"
      },
      "execution_count": 40,
      "outputs": [
        {
          "output_type": "execute_result",
          "data": {
            "text/plain": [
              "array(['.i:  Inapplicable', 'NO', '.n:  No answer', 'YES',\n",
              "       '.d:  Do not Know/Cannot Choose'], dtype=object)"
            ]
          },
          "metadata": {},
          "execution_count": 40
        }
      ]
    },
    {
      "cell_type": "code",
      "source": [
        "df['owngun'].unique()"
      ],
      "metadata": {
        "colab": {
          "base_uri": "https://localhost:8080/"
        },
        "id": "7wPTZ35JpW2w",
        "outputId": "a63f9694-9aac-4037-9405-7566df3fe5d4"
      },
      "execution_count": 41,
      "outputs": [
        {
          "output_type": "execute_result",
          "data": {
            "text/plain": [
              "array(['.i:  Inapplicable', 'NO', 'YES', 'REFUSED',\n",
              "       '.d:  Do not Know/Cannot Choose'], dtype=object)"
            ]
          },
          "metadata": {},
          "execution_count": 41
        }
      ]
    },
    {
      "cell_type": "code",
      "source": [
        "df['ballot'].unique()"
      ],
      "metadata": {
        "colab": {
          "base_uri": "https://localhost:8080/"
        },
        "id": "VuA0KnfwpnGP",
        "outputId": "096b84e4-f4ca-4616-9a51-02343da3ad61"
      },
      "execution_count": 42,
      "outputs": [
        {
          "output_type": "execute_result",
          "data": {
            "text/plain": [
              "array(['Ballot b', 'Ballot a', 'Ballot c'], dtype=object)"
            ]
          },
          "metadata": {},
          "execution_count": 42
        }
      ]
    },
    {
      "cell_type": "markdown",
      "source": [
        "\n",
        "*   We could merge '.i:  Inapplicable', '.d:  Do not Know/Cannot Choose', '.n:  No answer', and/or 'REFUSED', but they are each a little different I suppose, so I am not sure it is necessary. I feel it could go either way\n",
        "\n"
      ],
      "metadata": {
        "id": "S5ECpmXKqdhy"
      }
    }
  ],
  "metadata": {
    "kernelspec": {
      "display_name": "Python 3",
      "language": "python",
      "name": "python3"
    },
    "language_info": {
      "codemirror_mode": {
        "name": "ipython",
        "version": 3
      },
      "file_extension": ".py",
      "mimetype": "text/x-python",
      "name": "python",
      "nbconvert_exporter": "python",
      "pygments_lexer": "ipython3",
      "version": "3.12.0"
    },
    "colab": {
      "provenance": []
    }
  },
  "nbformat": 4,
  "nbformat_minor": 0
}