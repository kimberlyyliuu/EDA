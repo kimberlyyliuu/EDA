{
  "cells": [
    {
      "cell_type": "markdown",
      "metadata": {
        "id": "Tw1SeiezqGpf"
      },
      "source": [
        "**Authors:** Kimberly Liu and Isaac Tabor"
      ]
    },
    {
      "cell_type": "markdown",
      "metadata": {
        "id": "Iwrf90lZSg7N"
      },
      "source": [
        "## EDA LAB\n",
        "\n",
        "The General Social Survey (GSS) is a bi-annual nationally representative survey of Americans, with almost 7000 different questions asked since the survey began in the 1970s. It has straightforward questions about respondents' demographic information, but also questions like \"Does your job regularly require you to perform repetitive or forceful hand movements or involve awkward postures?\" or \"How often do the demands of your job interfere with your family life?\" There are a variety of controversial questions. No matter what you're curious about, there's something interesting in here to check out. The codebook is 904 pages (use CTRL+F to search it).\n",
        "\n",
        "The data and codebook are available at:\n",
        "https://gss.norc.org/us/en/gss/get-the-data.html\n",
        "\n",
        "The datasets are so large that it might make sense to pick the variables you want, and then download just those variables from:\n",
        "https://gssdataexplorer.norc.org/variables/vfilter\n",
        "\n",
        "Here is your task:\n",
        "1. Download a small (5-15) set of variables of interest.\n",
        "2. Write a short description of the data you chose, and why. (1 page)\n",
        "3. Load the data using Pandas. Clean them up for EDA. Do this in a notebook with comments or markdown chunks explaining your choices.\n",
        "4. Produce some numeric summaries and visualizations. (1-3 pages)\n",
        "5. Describe your findings in 1-2 pages.\n",
        "6. If you have other content that you think absolutely must be included, you can include it in an appendix of any length.\n",
        "\n",
        "For example, you might want to look at how aspects of a person's childhood family are correlated or not with their career or family choices as an adult. Or how political or religious affiliations correlate with drug use or sexual practices. It's an extremely wide-ranging survey.\n",
        "\n",
        "Feel free to work with other people in groups, and ask questions!"
      ]
    },
    {
      "cell_type": "markdown",
      "metadata": {
        "id": "qRDXe6FSUimh"
      },
      "source": [
        "## Part 1: Downloading our dataset\n",
        "\n",
        "* Clone the repo below and adjust file path as necessary to import data"
      ]
    },
    {
      "cell_type": "code",
      "execution_count": 113,
      "metadata": {
        "colab": {
          "base_uri": "https://localhost:8080/"
        },
        "id": "moONO8uzUImF",
        "outputId": "7edd640a-b9a7-4d76-c2c5-e42d8875c280"
      },
      "outputs": [
        {
          "output_type": "stream",
          "name": "stdout",
          "text": [
            "fatal: destination path 'EDA' already exists and is not an empty directory.\n"
          ]
        }
      ],
      "source": [
        "! git clone https://github.com/kimberlyyliuu/EDA/"
      ]
    },
    {
      "cell_type": "code",
      "execution_count": 114,
      "metadata": {
        "colab": {
          "base_uri": "https://localhost:8080/",
          "height": 206
        },
        "id": "Wezvc-7LSg7P",
        "outputId": "5a2aebd9-25bf-40bd-84fe-6ea999c90f20"
      },
      "outputs": [
        {
          "output_type": "execute_result",
          "data": {
            "text/plain": [
              "   year  id_ age     sex   race                        income06  \\\n",
              "0  2010    1  31    MALE  Other                $75000 TO $89999   \n",
              "1  2010    2  23  FEMALE  White                 $15000 TO 17499   \n",
              "2  2010    3  71  FEMALE  Black                 $20000 TO 22499   \n",
              "3  2010    4  82  FEMALE  White                 $8 000 TO 9 999   \n",
              "4  2010    5  78  FEMALE  Black  .d:  Do not Know/Cannot Choose   \n",
              "\n",
              "            rincom06             gunlaw              abany             owngun  \\\n",
              "0   $75000 TO $89999  .i:  Inapplicable  .i:  Inapplicable  .i:  Inapplicable   \n",
              "1    $7 000 TO 7 999  .i:  Inapplicable  .i:  Inapplicable  .i:  Inapplicable   \n",
              "2  .i:  Inapplicable              FAVOR                 NO                 NO   \n",
              "3  .i:  Inapplicable  .i:  Inapplicable  .i:  Inapplicable  .i:  Inapplicable   \n",
              "4  .i:  Inapplicable              FAVOR     .n:  No answer                 NO   \n",
              "\n",
              "   conrinc    ballot  \n",
              "0  66247.5  Ballot b  \n",
              "1   6022.5  Ballot b  \n",
              "2   -100.0  Ballot a  \n",
              "3   -100.0  Ballot b  \n",
              "4   -100.0  Ballot c  "
            ],
            "text/html": [
              "\n",
              "  <div id=\"df-d891959a-31a4-4ab4-8f8a-073d35864043\" class=\"colab-df-container\">\n",
              "    <div>\n",
              "<style scoped>\n",
              "    .dataframe tbody tr th:only-of-type {\n",
              "        vertical-align: middle;\n",
              "    }\n",
              "\n",
              "    .dataframe tbody tr th {\n",
              "        vertical-align: top;\n",
              "    }\n",
              "\n",
              "    .dataframe thead th {\n",
              "        text-align: right;\n",
              "    }\n",
              "</style>\n",
              "<table border=\"1\" class=\"dataframe\">\n",
              "  <thead>\n",
              "    <tr style=\"text-align: right;\">\n",
              "      <th></th>\n",
              "      <th>year</th>\n",
              "      <th>id_</th>\n",
              "      <th>age</th>\n",
              "      <th>sex</th>\n",
              "      <th>race</th>\n",
              "      <th>income06</th>\n",
              "      <th>rincom06</th>\n",
              "      <th>gunlaw</th>\n",
              "      <th>abany</th>\n",
              "      <th>owngun</th>\n",
              "      <th>conrinc</th>\n",
              "      <th>ballot</th>\n",
              "    </tr>\n",
              "  </thead>\n",
              "  <tbody>\n",
              "    <tr>\n",
              "      <th>0</th>\n",
              "      <td>2010</td>\n",
              "      <td>1</td>\n",
              "      <td>31</td>\n",
              "      <td>MALE</td>\n",
              "      <td>Other</td>\n",
              "      <td>$75000 TO $89999</td>\n",
              "      <td>$75000 TO $89999</td>\n",
              "      <td>.i:  Inapplicable</td>\n",
              "      <td>.i:  Inapplicable</td>\n",
              "      <td>.i:  Inapplicable</td>\n",
              "      <td>66247.5</td>\n",
              "      <td>Ballot b</td>\n",
              "    </tr>\n",
              "    <tr>\n",
              "      <th>1</th>\n",
              "      <td>2010</td>\n",
              "      <td>2</td>\n",
              "      <td>23</td>\n",
              "      <td>FEMALE</td>\n",
              "      <td>White</td>\n",
              "      <td>$15000 TO 17499</td>\n",
              "      <td>$7 000 TO 7 999</td>\n",
              "      <td>.i:  Inapplicable</td>\n",
              "      <td>.i:  Inapplicable</td>\n",
              "      <td>.i:  Inapplicable</td>\n",
              "      <td>6022.5</td>\n",
              "      <td>Ballot b</td>\n",
              "    </tr>\n",
              "    <tr>\n",
              "      <th>2</th>\n",
              "      <td>2010</td>\n",
              "      <td>3</td>\n",
              "      <td>71</td>\n",
              "      <td>FEMALE</td>\n",
              "      <td>Black</td>\n",
              "      <td>$20000 TO 22499</td>\n",
              "      <td>.i:  Inapplicable</td>\n",
              "      <td>FAVOR</td>\n",
              "      <td>NO</td>\n",
              "      <td>NO</td>\n",
              "      <td>-100.0</td>\n",
              "      <td>Ballot a</td>\n",
              "    </tr>\n",
              "    <tr>\n",
              "      <th>3</th>\n",
              "      <td>2010</td>\n",
              "      <td>4</td>\n",
              "      <td>82</td>\n",
              "      <td>FEMALE</td>\n",
              "      <td>White</td>\n",
              "      <td>$8 000 TO 9 999</td>\n",
              "      <td>.i:  Inapplicable</td>\n",
              "      <td>.i:  Inapplicable</td>\n",
              "      <td>.i:  Inapplicable</td>\n",
              "      <td>.i:  Inapplicable</td>\n",
              "      <td>-100.0</td>\n",
              "      <td>Ballot b</td>\n",
              "    </tr>\n",
              "    <tr>\n",
              "      <th>4</th>\n",
              "      <td>2010</td>\n",
              "      <td>5</td>\n",
              "      <td>78</td>\n",
              "      <td>FEMALE</td>\n",
              "      <td>Black</td>\n",
              "      <td>.d:  Do not Know/Cannot Choose</td>\n",
              "      <td>.i:  Inapplicable</td>\n",
              "      <td>FAVOR</td>\n",
              "      <td>.n:  No answer</td>\n",
              "      <td>NO</td>\n",
              "      <td>-100.0</td>\n",
              "      <td>Ballot c</td>\n",
              "    </tr>\n",
              "  </tbody>\n",
              "</table>\n",
              "</div>\n",
              "    <div class=\"colab-df-buttons\">\n",
              "\n",
              "  <div class=\"colab-df-container\">\n",
              "    <button class=\"colab-df-convert\" onclick=\"convertToInteractive('df-d891959a-31a4-4ab4-8f8a-073d35864043')\"\n",
              "            title=\"Convert this dataframe to an interactive table.\"\n",
              "            style=\"display:none;\">\n",
              "\n",
              "  <svg xmlns=\"http://www.w3.org/2000/svg\" height=\"24px\" viewBox=\"0 -960 960 960\">\n",
              "    <path d=\"M120-120v-720h720v720H120Zm60-500h600v-160H180v160Zm220 220h160v-160H400v160Zm0 220h160v-160H400v160ZM180-400h160v-160H180v160Zm440 0h160v-160H620v160ZM180-180h160v-160H180v160Zm440 0h160v-160H620v160Z\"/>\n",
              "  </svg>\n",
              "    </button>\n",
              "\n",
              "  <style>\n",
              "    .colab-df-container {\n",
              "      display:flex;\n",
              "      gap: 12px;\n",
              "    }\n",
              "\n",
              "    .colab-df-convert {\n",
              "      background-color: #E8F0FE;\n",
              "      border: none;\n",
              "      border-radius: 50%;\n",
              "      cursor: pointer;\n",
              "      display: none;\n",
              "      fill: #1967D2;\n",
              "      height: 32px;\n",
              "      padding: 0 0 0 0;\n",
              "      width: 32px;\n",
              "    }\n",
              "\n",
              "    .colab-df-convert:hover {\n",
              "      background-color: #E2EBFA;\n",
              "      box-shadow: 0px 1px 2px rgba(60, 64, 67, 0.3), 0px 1px 3px 1px rgba(60, 64, 67, 0.15);\n",
              "      fill: #174EA6;\n",
              "    }\n",
              "\n",
              "    .colab-df-buttons div {\n",
              "      margin-bottom: 4px;\n",
              "    }\n",
              "\n",
              "    [theme=dark] .colab-df-convert {\n",
              "      background-color: #3B4455;\n",
              "      fill: #D2E3FC;\n",
              "    }\n",
              "\n",
              "    [theme=dark] .colab-df-convert:hover {\n",
              "      background-color: #434B5C;\n",
              "      box-shadow: 0px 1px 3px 1px rgba(0, 0, 0, 0.15);\n",
              "      filter: drop-shadow(0px 1px 2px rgba(0, 0, 0, 0.3));\n",
              "      fill: #FFFFFF;\n",
              "    }\n",
              "  </style>\n",
              "\n",
              "    <script>\n",
              "      const buttonEl =\n",
              "        document.querySelector('#df-d891959a-31a4-4ab4-8f8a-073d35864043 button.colab-df-convert');\n",
              "      buttonEl.style.display =\n",
              "        google.colab.kernel.accessAllowed ? 'block' : 'none';\n",
              "\n",
              "      async function convertToInteractive(key) {\n",
              "        const element = document.querySelector('#df-d891959a-31a4-4ab4-8f8a-073d35864043');\n",
              "        const dataTable =\n",
              "          await google.colab.kernel.invokeFunction('convertToInteractive',\n",
              "                                                    [key], {});\n",
              "        if (!dataTable) return;\n",
              "\n",
              "        const docLinkHtml = 'Like what you see? Visit the ' +\n",
              "          '<a target=\"_blank\" href=https://colab.research.google.com/notebooks/data_table.ipynb>data table notebook</a>'\n",
              "          + ' to learn more about interactive tables.';\n",
              "        element.innerHTML = '';\n",
              "        dataTable['output_type'] = 'display_data';\n",
              "        await google.colab.output.renderOutput(dataTable, element);\n",
              "        const docLink = document.createElement('div');\n",
              "        docLink.innerHTML = docLinkHtml;\n",
              "        element.appendChild(docLink);\n",
              "      }\n",
              "    </script>\n",
              "  </div>\n",
              "\n",
              "\n",
              "<div id=\"df-3ac0a759-7321-45f1-9d78-2607af793efa\">\n",
              "  <button class=\"colab-df-quickchart\" onclick=\"quickchart('df-3ac0a759-7321-45f1-9d78-2607af793efa')\"\n",
              "            title=\"Suggest charts\"\n",
              "            style=\"display:none;\">\n",
              "\n",
              "<svg xmlns=\"http://www.w3.org/2000/svg\" height=\"24px\"viewBox=\"0 0 24 24\"\n",
              "     width=\"24px\">\n",
              "    <g>\n",
              "        <path d=\"M19 3H5c-1.1 0-2 .9-2 2v14c0 1.1.9 2 2 2h14c1.1 0 2-.9 2-2V5c0-1.1-.9-2-2-2zM9 17H7v-7h2v7zm4 0h-2V7h2v10zm4 0h-2v-4h2v4z\"/>\n",
              "    </g>\n",
              "</svg>\n",
              "  </button>\n",
              "\n",
              "<style>\n",
              "  .colab-df-quickchart {\n",
              "      --bg-color: #E8F0FE;\n",
              "      --fill-color: #1967D2;\n",
              "      --hover-bg-color: #E2EBFA;\n",
              "      --hover-fill-color: #174EA6;\n",
              "      --disabled-fill-color: #AAA;\n",
              "      --disabled-bg-color: #DDD;\n",
              "  }\n",
              "\n",
              "  [theme=dark] .colab-df-quickchart {\n",
              "      --bg-color: #3B4455;\n",
              "      --fill-color: #D2E3FC;\n",
              "      --hover-bg-color: #434B5C;\n",
              "      --hover-fill-color: #FFFFFF;\n",
              "      --disabled-bg-color: #3B4455;\n",
              "      --disabled-fill-color: #666;\n",
              "  }\n",
              "\n",
              "  .colab-df-quickchart {\n",
              "    background-color: var(--bg-color);\n",
              "    border: none;\n",
              "    border-radius: 50%;\n",
              "    cursor: pointer;\n",
              "    display: none;\n",
              "    fill: var(--fill-color);\n",
              "    height: 32px;\n",
              "    padding: 0;\n",
              "    width: 32px;\n",
              "  }\n",
              "\n",
              "  .colab-df-quickchart:hover {\n",
              "    background-color: var(--hover-bg-color);\n",
              "    box-shadow: 0 1px 2px rgba(60, 64, 67, 0.3), 0 1px 3px 1px rgba(60, 64, 67, 0.15);\n",
              "    fill: var(--button-hover-fill-color);\n",
              "  }\n",
              "\n",
              "  .colab-df-quickchart-complete:disabled,\n",
              "  .colab-df-quickchart-complete:disabled:hover {\n",
              "    background-color: var(--disabled-bg-color);\n",
              "    fill: var(--disabled-fill-color);\n",
              "    box-shadow: none;\n",
              "  }\n",
              "\n",
              "  .colab-df-spinner {\n",
              "    border: 2px solid var(--fill-color);\n",
              "    border-color: transparent;\n",
              "    border-bottom-color: var(--fill-color);\n",
              "    animation:\n",
              "      spin 1s steps(1) infinite;\n",
              "  }\n",
              "\n",
              "  @keyframes spin {\n",
              "    0% {\n",
              "      border-color: transparent;\n",
              "      border-bottom-color: var(--fill-color);\n",
              "      border-left-color: var(--fill-color);\n",
              "    }\n",
              "    20% {\n",
              "      border-color: transparent;\n",
              "      border-left-color: var(--fill-color);\n",
              "      border-top-color: var(--fill-color);\n",
              "    }\n",
              "    30% {\n",
              "      border-color: transparent;\n",
              "      border-left-color: var(--fill-color);\n",
              "      border-top-color: var(--fill-color);\n",
              "      border-right-color: var(--fill-color);\n",
              "    }\n",
              "    40% {\n",
              "      border-color: transparent;\n",
              "      border-right-color: var(--fill-color);\n",
              "      border-top-color: var(--fill-color);\n",
              "    }\n",
              "    60% {\n",
              "      border-color: transparent;\n",
              "      border-right-color: var(--fill-color);\n",
              "    }\n",
              "    80% {\n",
              "      border-color: transparent;\n",
              "      border-right-color: var(--fill-color);\n",
              "      border-bottom-color: var(--fill-color);\n",
              "    }\n",
              "    90% {\n",
              "      border-color: transparent;\n",
              "      border-bottom-color: var(--fill-color);\n",
              "    }\n",
              "  }\n",
              "</style>\n",
              "\n",
              "  <script>\n",
              "    async function quickchart(key) {\n",
              "      const quickchartButtonEl =\n",
              "        document.querySelector('#' + key + ' button');\n",
              "      quickchartButtonEl.disabled = true;  // To prevent multiple clicks.\n",
              "      quickchartButtonEl.classList.add('colab-df-spinner');\n",
              "      try {\n",
              "        const charts = await google.colab.kernel.invokeFunction(\n",
              "            'suggestCharts', [key], {});\n",
              "      } catch (error) {\n",
              "        console.error('Error during call to suggestCharts:', error);\n",
              "      }\n",
              "      quickchartButtonEl.classList.remove('colab-df-spinner');\n",
              "      quickchartButtonEl.classList.add('colab-df-quickchart-complete');\n",
              "    }\n",
              "    (() => {\n",
              "      let quickchartButtonEl =\n",
              "        document.querySelector('#df-3ac0a759-7321-45f1-9d78-2607af793efa button');\n",
              "      quickchartButtonEl.style.display =\n",
              "        google.colab.kernel.accessAllowed ? 'block' : 'none';\n",
              "    })();\n",
              "  </script>\n",
              "</div>\n",
              "\n",
              "    </div>\n",
              "  </div>\n"
            ],
            "application/vnd.google.colaboratory.intrinsic+json": {
              "type": "dataframe",
              "variable_name": "df",
              "summary": "{\n  \"name\": \"df\",\n  \"rows\": 11771,\n  \"fields\": [\n    {\n      \"column\": \"year\",\n      \"properties\": {\n        \"dtype\": \"number\",\n        \"std\": 2,\n        \"min\": 2010,\n        \"max\": 2018,\n        \"num_unique_values\": 5,\n        \"samples\": [\n          2012,\n          2018,\n          2014\n        ],\n        \"semantic_type\": \"\",\n        \"description\": \"\"\n      }\n    },\n    {\n      \"column\": \"id_\",\n      \"properties\": {\n        \"dtype\": \"number\",\n        \"std\": 719,\n        \"min\": 1,\n        \"max\": 2867,\n        \"num_unique_values\": 2867,\n        \"samples\": [\n          444,\n          1544,\n          762\n        ],\n        \"semantic_type\": \"\",\n        \"description\": \"\"\n      }\n    },\n    {\n      \"column\": \"age\",\n      \"properties\": {\n        \"dtype\": \"category\",\n        \"num_unique_values\": 73,\n        \"samples\": [\n          \"78\",\n          \"76\",\n          \"56\"\n        ],\n        \"semantic_type\": \"\",\n        \"description\": \"\"\n      }\n    },\n    {\n      \"column\": \"sex\",\n      \"properties\": {\n        \"dtype\": \"category\",\n        \"num_unique_values\": 2,\n        \"samples\": [\n          \"FEMALE\",\n          \"MALE\"\n        ],\n        \"semantic_type\": \"\",\n        \"description\": \"\"\n      }\n    },\n    {\n      \"column\": \"race\",\n      \"properties\": {\n        \"dtype\": \"category\",\n        \"num_unique_values\": 3,\n        \"samples\": [\n          \"Other\",\n          \"White\"\n        ],\n        \"semantic_type\": \"\",\n        \"description\": \"\"\n      }\n    },\n    {\n      \"column\": \"income06\",\n      \"properties\": {\n        \"dtype\": \"category\",\n        \"num_unique_values\": 28,\n        \"samples\": [\n          \"$90000 TO $109999\",\n          \"$7 000 TO 7 999\"\n        ],\n        \"semantic_type\": \"\",\n        \"description\": \"\"\n      }\n    },\n    {\n      \"column\": \"rincom06\",\n      \"properties\": {\n        \"dtype\": \"category\",\n        \"num_unique_values\": 28,\n        \"samples\": [\n          \"$110000 TO $129999\",\n          \".d:  Do not Know/Cannot Choose\"\n        ],\n        \"semantic_type\": \"\",\n        \"description\": \"\"\n      }\n    },\n    {\n      \"column\": \"gunlaw\",\n      \"properties\": {\n        \"dtype\": \"category\",\n        \"num_unique_values\": 5,\n        \"samples\": [\n          \"FAVOR\",\n          \".n:  No answer\"\n        ],\n        \"semantic_type\": \"\",\n        \"description\": \"\"\n      }\n    },\n    {\n      \"column\": \"abany\",\n      \"properties\": {\n        \"dtype\": \"category\",\n        \"num_unique_values\": 5,\n        \"samples\": [\n          \"NO\",\n          \".d:  Do not Know/Cannot Choose\"\n        ],\n        \"semantic_type\": \"\",\n        \"description\": \"\"\n      }\n    },\n    {\n      \"column\": \"owngun\",\n      \"properties\": {\n        \"dtype\": \"category\",\n        \"num_unique_values\": 5,\n        \"samples\": [\n          \"NO\",\n          \".d:  Do not Know/Cannot Choose\"\n        ],\n        \"semantic_type\": \"\",\n        \"description\": \"\"\n      }\n    },\n    {\n      \"column\": \"conrinc\",\n      \"properties\": {\n        \"dtype\": \"number\",\n        \"std\": 34123.643742369306,\n        \"min\": -100.0,\n        \"max\": 324512.29214,\n        \"num_unique_values\": 128,\n        \"samples\": [\n          33255.0,\n          18192.5\n        ],\n        \"semantic_type\": \"\",\n        \"description\": \"\"\n      }\n    },\n    {\n      \"column\": \"ballot\",\n      \"properties\": {\n        \"dtype\": \"category\",\n        \"num_unique_values\": 3,\n        \"samples\": [\n          \"Ballot b\",\n          \"Ballot a\"\n        ],\n        \"semantic_type\": \"\",\n        \"description\": \"\"\n      }\n    }\n  ]\n}"
            }
          },
          "metadata": {},
          "execution_count": 114
        }
      ],
      "source": [
        "import pandas as pd\n",
        "\n",
        "df = pd.read_excel('/content/EDA/lab/GSS.xlsx')\n",
        "#df = pd.read_excel('GSS.xlsx')\n",
        "df.head()"
      ]
    },
    {
      "cell_type": "markdown",
      "metadata": {
        "id": "alEpraVgUwY8"
      },
      "source": [
        "## Part 2: Data Description and Background\n",
        "\n",
        "**Data Description and Background**\n",
        "\n",
        "> As mentioned above, the data we collected comes from the General Social Survey (GSS), a bi-annual nationally representative American  survey of Americans with an abundant of variables to choose from. In short, it is very good data on a lot of interesting topics. We chose to extract 12 variables to form a dataset of 11,771 entries.\n",
        "\n",
        "> Our dataset primarily surrounds capturing attitudes on particular social issues, alongside demographic and economic factors that may influence these views. Specifically, we selected the gunlaw variable, which contains an OPPOSE or FAVOR response to the question, \"Would you favor or oppose a law which would require a person to obtain a police permit before he or she could buy a gun?\" Additionally, we chose the abany vaiable, which is a response to whether the respondent believes it should be possible for a pregnant woman to obtain a legal abortion if the woman wants it for any reason.\n",
        "\n",
        "> To support and contextualize those primary variables of interest, we also collected the year variable, which corresponds to the  GSS year for the respondent, and the id_ variable, which is a respondent's unique identification number. Additionally, we gathered demographic and economic information on each respondent. To ensure a structured and reliable time series analysis, we specifically selected survey years at two-year intervals from 2010 to 2018 (2010, 2012, 2014, 2016, 2018). This approach was intentional in order to minimize the influence of external economic and societal shocks, such as the 2008 financial crisis and the COVID-19 pandemic, which significantly impacted public opinion and economic conditions in 2020 and beyond. By focusing on a relatively stable economic and social period, we aimed to provide a clearer and more consistent analysis of long-term trends.\n",
        "\n",
        "\n",
        "> The demographic variables we collected are age, sex, race, and owngun (whether someone has a gun or revolver in their house or garage). The economic variables we gathered on each respondent are income06 and rincome06, which refer to total family and respondent income, respectively. This income data is available for years 2006, 2008, 2010, 2012, and 2014. Additionally, we gathered conrincome, which is inflation adjusted personal income.\n",
        "\n",
        "> With this data collected, we felt confident in being able to form an analysis on public opinion on controversial topics, and gain a deeper perspective of American society on these issues.   \n",
        "\n"
      ]
    },
    {
      "cell_type": "markdown",
      "metadata": {
        "id": "JMCUQdziebxP"
      },
      "source": [
        "## Part 3: Data Cleaning with Explanation of Choices\n"
      ]
    },
    {
      "cell_type": "code",
      "execution_count": 115,
      "metadata": {
        "colab": {
          "base_uri": "https://localhost:8080/"
        },
        "id": "L3oFX02GVa9a",
        "outputId": "7a8213b9-ce20-49b6-d98f-6ba0c30d1092"
      },
      "outputs": [
        {
          "output_type": "stream",
          "name": "stdout",
          "text": [
            "<class 'pandas.core.frame.DataFrame'>\n",
            "RangeIndex: 11771 entries, 0 to 11770\n",
            "Data columns (total 12 columns):\n",
            " #   Column    Non-Null Count  Dtype  \n",
            "---  ------    --------------  -----  \n",
            " 0   year      11771 non-null  int64  \n",
            " 1   id_       11771 non-null  int64  \n",
            " 2   age       11771 non-null  object \n",
            " 3   sex       11771 non-null  object \n",
            " 4   race      11771 non-null  object \n",
            " 5   income06  11771 non-null  object \n",
            " 6   rincom06  11771 non-null  object \n",
            " 7   gunlaw    11771 non-null  object \n",
            " 8   abany     11771 non-null  object \n",
            " 9   owngun    11771 non-null  object \n",
            " 10  conrinc   11771 non-null  float64\n",
            " 11  ballot    11771 non-null  object \n",
            "dtypes: float64(1), int64(2), object(9)\n",
            "memory usage: 1.1+ MB\n"
          ]
        }
      ],
      "source": [
        "df.info()"
      ]
    },
    {
      "cell_type": "markdown",
      "metadata": {
        "id": "0EdHjk-he88x"
      },
      "source": [
        "\n",
        "\n",
        "*   From this concise summary and the first five rows of the dataframe, we can immediately see that **age**, **income06**, and **rincome06** are not appropriately stored as numeric variables\n",
        "\n"
      ]
    },
    {
      "cell_type": "markdown",
      "metadata": {
        "id": "PAkKzamCh246"
      },
      "source": [
        "**Cleaning age column**"
      ]
    },
    {
      "cell_type": "code",
      "execution_count": 116,
      "metadata": {
        "colab": {
          "base_uri": "https://localhost:8080/"
        },
        "id": "ZrPRL2b8fvE8",
        "outputId": "1a3e7e61-4c9c-4d3d-b8d9-6f5961762be4"
      },
      "outputs": [
        {
          "output_type": "execute_result",
          "data": {
            "text/plain": [
              "array(['31', '23', '71', '82', '78', '40', '46', '80', '.n:  No answer',\n",
              "       '21', '58', '36', '57', '28', '84', '51', '35', '49', '56', '88',\n",
              "       '26', '33', '53', '63', '34', '75', '43', '83', '69', '24', '25',\n",
              "       '66', '20', '37', '64', '45', '60', '22', '72', '42', '54', '41',\n",
              "       '19', '44', '50', '39', '48', '38', '55', '59', '68', '61', '65',\n",
              "       '27', '32', '52', '47', '70', '30', '29', '67', '89 or older',\n",
              "       '18', '76', '79', '73', '62', '77', '85', '81', '86', '74', '87'],\n",
              "      dtype=object)"
            ]
          },
          "metadata": {},
          "execution_count": 116
        }
      ],
      "source": [
        "df['age'].unique()\n"
      ]
    },
    {
      "cell_type": "markdown",
      "metadata": {
        "id": "WjHKdykyf6IP"
      },
      "source": [
        "\n",
        "\n",
        "*   By analyzing unique values, we can see that values **'.n:  No answer',** and **'89 or older'** need to be cleaned\n",
        "\n",
        "*   We decided that '.n: No answer' should be replaced with np.nan to be treated appropriately with data analysis\n",
        "\n",
        "*   We decided that '89 or older' should be replaced with 89 to preserve the dataset's numeric integrity and to minimize assumptions because we felt it would be too speculative to assign 95, for example.\n",
        "\n",
        "\n",
        "\n",
        "\n",
        "\n"
      ]
    },
    {
      "cell_type": "code",
      "execution_count": 117,
      "metadata": {
        "colab": {
          "base_uri": "https://localhost:8080/"
        },
        "id": "4cnV51irhE9K",
        "outputId": "4977461e-298b-42fa-ff33-d09cd3436d58"
      },
      "outputs": [
        {
          "output_type": "stream",
          "name": "stdout",
          "text": [
            "[31. 23. 71. 82. 78. 40. 46. 80. nan 21. 58. 36. 57. 28. 84. 51. 35. 49.\n",
            " 56. 88. 26. 33. 53. 63. 34. 75. 43. 83. 69. 24. 25. 66. 20. 37. 64. 45.\n",
            " 60. 22. 72. 42. 54. 41. 19. 44. 50. 39. 48. 38. 55. 59. 68. 61. 65. 27.\n",
            " 32. 52. 47. 70. 30. 29. 67. 89. 18. 76. 79. 73. 62. 77. 85. 81. 86. 74.\n",
            " 87.]\n",
            "float64\n"
          ]
        }
      ],
      "source": [
        "import numpy as np\n",
        "\n",
        "# Cleaning age column\n",
        "\n",
        "df['age'] = df['age'].replace({\n",
        "    '.n:  No answer': np.nan,\n",
        "    '89 or older': 89\n",
        "})\n",
        "\n",
        "df['age'] = pd.to_numeric(df['age'])\n",
        "\n",
        "print(df['age'].unique())\n",
        "print(df['age'].dtype)"
      ]
    },
    {
      "cell_type": "markdown",
      "metadata": {
        "id": "NbGsT1zeiLlW"
      },
      "source": [
        "**Cleaning income columns**"
      ]
    },
    {
      "cell_type": "code",
      "execution_count": 118,
      "metadata": {
        "colab": {
          "base_uri": "https://localhost:8080/"
        },
        "id": "dcLXeNwIiPgl",
        "outputId": "379207df-7108-4c3a-e541-48fba25fcada"
      },
      "outputs": [
        {
          "output_type": "execute_result",
          "data": {
            "text/plain": [
              "array(['$75000 TO $89999', '$15000 TO 17499', '$20000 TO 22499',\n",
              "       '$8 000 TO 9 999', '.d:  Do not Know/Cannot Choose',\n",
              "       '$10000 TO 12499', '.r:  Refused', '$50000 TO 59999',\n",
              "       '$40000 TO 49999', '$90000 TO $109999', '$22500 TO 24999',\n",
              "       '$4 000 TO 4 999', '$12500 TO 14999', '$60000 TO 74999',\n",
              "       '$3 000 TO 3 999', '$150000 OR OVER', '$5 000 TO 5 999',\n",
              "       '$130000 TO $149999', '$17500 TO 19999', '$25000 TO 29999',\n",
              "       '$110000 TO $129999', '$30000 TO 34999', 'UNDER $1 000',\n",
              "       '$35000 TO 39999', '$1 000 TO 2 999', '$7 000 TO 7 999',\n",
              "       '$6 000 TO 6 999', '.i:  Inapplicable'], dtype=object)"
            ]
          },
          "metadata": {},
          "execution_count": 118
        }
      ],
      "source": [
        "df['income06'].unique()"
      ]
    },
    {
      "cell_type": "code",
      "execution_count": 119,
      "metadata": {
        "colab": {
          "base_uri": "https://localhost:8080/"
        },
        "id": "It60VIIOl3Il",
        "outputId": "4ed7215b-7fc8-4360-c748-09cdf0607e26"
      },
      "outputs": [
        {
          "output_type": "execute_result",
          "data": {
            "text/plain": [
              "array([2010, 2012, 2014, 2016, 2018])"
            ]
          },
          "metadata": {},
          "execution_count": 119
        }
      ],
      "source": [
        "df['year'].unique()"
      ]
    },
    {
      "cell_type": "markdown",
      "metadata": {
        "id": "w9dreAAumfgv"
      },
      "source": [
        "\n",
        "\n",
        "*   Noting here that in gss documentation, it has income06 and rincome06 had data available for years 2006, 2008, 2010, 2012, and 2014, and our data ranges for 2010-2018\n",
        "\n"
      ]
    },
    {
      "cell_type": "markdown",
      "metadata": {
        "id": "pL-Z8nkHjXdq"
      },
      "source": [
        "* We could clean this or we could just use **conrincome** since that is inflation-adjusted and a clean numeric value."
      ]
    },
    {
      "cell_type": "code",
      "execution_count": 120,
      "metadata": {
        "colab": {
          "base_uri": "https://localhost:8080/",
          "height": 335
        },
        "id": "OA7Ovgq1k-MW",
        "outputId": "b1088bf1-4c2b-4c7a-a725-685dddc6a716"
      },
      "outputs": [
        {
          "output_type": "execute_result",
          "data": {
            "text/plain": [
              "count     11771.000000\n",
              "mean      20298.998512\n",
              "std       34123.643742\n",
              "min        -100.000000\n",
              "25%        -100.000000\n",
              "50%        6309.000000\n",
              "75%       30112.500000\n",
              "max      324512.292140\n",
              "Name: conrinc, dtype: float64"
            ],
            "text/html": [
              "<div>\n",
              "<style scoped>\n",
              "    .dataframe tbody tr th:only-of-type {\n",
              "        vertical-align: middle;\n",
              "    }\n",
              "\n",
              "    .dataframe tbody tr th {\n",
              "        vertical-align: top;\n",
              "    }\n",
              "\n",
              "    .dataframe thead th {\n",
              "        text-align: right;\n",
              "    }\n",
              "</style>\n",
              "<table border=\"1\" class=\"dataframe\">\n",
              "  <thead>\n",
              "    <tr style=\"text-align: right;\">\n",
              "      <th></th>\n",
              "      <th>conrinc</th>\n",
              "    </tr>\n",
              "  </thead>\n",
              "  <tbody>\n",
              "    <tr>\n",
              "      <th>count</th>\n",
              "      <td>11771.000000</td>\n",
              "    </tr>\n",
              "    <tr>\n",
              "      <th>mean</th>\n",
              "      <td>20298.998512</td>\n",
              "    </tr>\n",
              "    <tr>\n",
              "      <th>std</th>\n",
              "      <td>34123.643742</td>\n",
              "    </tr>\n",
              "    <tr>\n",
              "      <th>min</th>\n",
              "      <td>-100.000000</td>\n",
              "    </tr>\n",
              "    <tr>\n",
              "      <th>25%</th>\n",
              "      <td>-100.000000</td>\n",
              "    </tr>\n",
              "    <tr>\n",
              "      <th>50%</th>\n",
              "      <td>6309.000000</td>\n",
              "    </tr>\n",
              "    <tr>\n",
              "      <th>75%</th>\n",
              "      <td>30112.500000</td>\n",
              "    </tr>\n",
              "    <tr>\n",
              "      <th>max</th>\n",
              "      <td>324512.292140</td>\n",
              "    </tr>\n",
              "  </tbody>\n",
              "</table>\n",
              "</div><br><label><b>dtype:</b> float64</label>"
            ]
          },
          "metadata": {},
          "execution_count": 120
        }
      ],
      "source": [
        "df['conrinc'].describe()"
      ]
    },
    {
      "cell_type": "code",
      "execution_count": 121,
      "metadata": {
        "colab": {
          "base_uri": "https://localhost:8080/"
        },
        "id": "zHBTTOPCkA2i",
        "outputId": "7181a21e-ce16-4d58-90a2-184a960d2500"
      },
      "outputs": [
        {
          "output_type": "execute_result",
          "data": {
            "text/plain": [
              "0.41670206439554835"
            ]
          },
          "metadata": {},
          "execution_count": 121
        }
      ],
      "source": [
        "(df['conrinc'] == -100).sum() / len(df)"
      ]
    },
    {
      "cell_type": "code",
      "execution_count": 122,
      "metadata": {
        "colab": {
          "base_uri": "https://localhost:8080/"
        },
        "id": "_Gz8DF42leCR",
        "outputId": "626da257-272c-4bcf-dbdd-074e8afc6a62"
      },
      "outputs": [
        {
          "output_type": "execute_result",
          "data": {
            "text/plain": [
              "0"
            ]
          },
          "metadata": {},
          "execution_count": 122
        }
      ],
      "source": [
        "sum(df['conrinc'].isna())"
      ]
    },
    {
      "cell_type": "markdown",
      "metadata": {
        "id": "3RlSA027nuTP"
      },
      "source": [
        "*   It appears that for **conrinc**, which covers inflation-adjusted personal income, -100 is being used to report unknown income and that accounts for 41.67% of our conrinc data.\n",
        "*   It is possible this could include stay at home parents, younger populations, etc.\n",
        "\n",
        "\n"
      ]
    },
    {
      "cell_type": "code",
      "execution_count": 123,
      "metadata": {
        "colab": {
          "base_uri": "https://localhost:8080/",
          "height": 272
        },
        "id": "wgAMkyv-nnjK",
        "outputId": "eea32498-8198-4403-8dc2-3cb56c78f6d5"
      },
      "outputs": [
        {
          "output_type": "execute_result",
          "data": {
            "text/plain": [
              "year\n",
              "2010    0.171662\n",
              "2012    0.168807\n",
              "2014    0.206932\n",
              "2016    0.251784\n",
              "2018    0.200815\n",
              "dtype: float64"
            ],
            "text/html": [
              "<div>\n",
              "<style scoped>\n",
              "    .dataframe tbody tr th:only-of-type {\n",
              "        vertical-align: middle;\n",
              "    }\n",
              "\n",
              "    .dataframe tbody tr th {\n",
              "        vertical-align: top;\n",
              "    }\n",
              "\n",
              "    .dataframe thead th {\n",
              "        text-align: right;\n",
              "    }\n",
              "</style>\n",
              "<table border=\"1\" class=\"dataframe\">\n",
              "  <thead>\n",
              "    <tr style=\"text-align: right;\">\n",
              "      <th></th>\n",
              "      <th>0</th>\n",
              "    </tr>\n",
              "    <tr>\n",
              "      <th>year</th>\n",
              "      <th></th>\n",
              "    </tr>\n",
              "  </thead>\n",
              "  <tbody>\n",
              "    <tr>\n",
              "      <th>2010</th>\n",
              "      <td>0.171662</td>\n",
              "    </tr>\n",
              "    <tr>\n",
              "      <th>2012</th>\n",
              "      <td>0.168807</td>\n",
              "    </tr>\n",
              "    <tr>\n",
              "      <th>2014</th>\n",
              "      <td>0.206932</td>\n",
              "    </tr>\n",
              "    <tr>\n",
              "      <th>2016</th>\n",
              "      <td>0.251784</td>\n",
              "    </tr>\n",
              "    <tr>\n",
              "      <th>2018</th>\n",
              "      <td>0.200815</td>\n",
              "    </tr>\n",
              "  </tbody>\n",
              "</table>\n",
              "</div><br><label><b>dtype:</b> float64</label>"
            ]
          },
          "metadata": {},
          "execution_count": 123
        }
      ],
      "source": [
        "year_counts = df[df['conrinc'] == -100].groupby('year').size()\n",
        "year_proportions = year_counts / year_counts.sum() # this is taking how many -100 there are in each year and dividing by total -100 in dataset.\n",
        "year_proportions"
      ]
    },
    {
      "cell_type": "markdown",
      "metadata": {
        "id": "YQGh0oUplkpB"
      },
      "source": [
        "\n",
        "\n",
        "*   The missing data is not disproprotinately associated with one year.\n",
        "\n",
        "\n",
        "\n",
        "\n",
        "\n"
      ]
    },
    {
      "cell_type": "code",
      "source": [
        "sex_counts = df[df['conrinc'] == -100].groupby('sex').size()\n",
        "sex_proportions = sex_counts / sex_counts.sum() # this is taking how many -100 there are in each sex and dividing by total -100 in dataset.\n",
        "sex_proportions"
      ],
      "metadata": {
        "id": "FlXQgLxf-S8Z",
        "outputId": "6bc191dc-73ee-4c5f-8f72-bba82ed960e0",
        "colab": {
          "base_uri": "https://localhost:8080/",
          "height": 178
        }
      },
      "execution_count": 124,
      "outputs": [
        {
          "output_type": "execute_result",
          "data": {
            "text/plain": [
              "sex\n",
              "FEMALE    0.607136\n",
              "MALE      0.392864\n",
              "dtype: float64"
            ],
            "text/html": [
              "<div>\n",
              "<style scoped>\n",
              "    .dataframe tbody tr th:only-of-type {\n",
              "        vertical-align: middle;\n",
              "    }\n",
              "\n",
              "    .dataframe tbody tr th {\n",
              "        vertical-align: top;\n",
              "    }\n",
              "\n",
              "    .dataframe thead th {\n",
              "        text-align: right;\n",
              "    }\n",
              "</style>\n",
              "<table border=\"1\" class=\"dataframe\">\n",
              "  <thead>\n",
              "    <tr style=\"text-align: right;\">\n",
              "      <th></th>\n",
              "      <th>0</th>\n",
              "    </tr>\n",
              "    <tr>\n",
              "      <th>sex</th>\n",
              "      <th></th>\n",
              "    </tr>\n",
              "  </thead>\n",
              "  <tbody>\n",
              "    <tr>\n",
              "      <th>FEMALE</th>\n",
              "      <td>0.607136</td>\n",
              "    </tr>\n",
              "    <tr>\n",
              "      <th>MALE</th>\n",
              "      <td>0.392864</td>\n",
              "    </tr>\n",
              "  </tbody>\n",
              "</table>\n",
              "</div><br><label><b>dtype:</b> float64</label>"
            ]
          },
          "metadata": {},
          "execution_count": 124
        }
      ]
    },
    {
      "cell_type": "markdown",
      "source": [
        "\n",
        "\n",
        "*   According to the Pew Research Center, [dads make up 18% of stay at home parents](https://www.pewresearch.org/short-reads/2023/08/03/almost-1-in-5-stay-at-home-parents-in-the-us-are-dads/#:~:text=The%20share%20who%20are%20stay,mothers%20and%207%25%20of%20fathers.), so it is possible many of the -100 are stay-at home parents given there are significantly more stay-at home moms and more female -100 values for inflation-adjusted personal income.\n"
      ],
      "metadata": {
        "id": "ylykbeAP-38o"
      }
    },
    {
      "cell_type": "code",
      "source": [
        "# Filter data and group by age\n",
        "filtered_df = df[df['conrinc'] == -100]\n",
        "age_counts = filtered_df.groupby('age').size()\n",
        "\n",
        "# Convert to proportions\n",
        "age_proportions = age_counts / age_counts.sum() # this is taking how many -100 there are in each age and dividing by total -100 in dataset.\n",
        "\n",
        "# Plot histogram\n",
        "plt.figure(figsize=(8, 5))\n",
        "plt.bar(age_proportions.index, age_proportions.values, color='blue', alpha=0.7)\n",
        "plt.xlabel('Age')\n",
        "plt.ylabel('Proportion')\n",
        "plt.title('Proportion of Ages for conrinc == -100')\n",
        "plt.show()"
      ],
      "metadata": {
        "id": "ZcRcD5mP7qt1",
        "outputId": "33012be8-bbb1-4978-d394-a51cf68f988e",
        "colab": {
          "base_uri": "https://localhost:8080/",
          "height": 487
        }
      },
      "execution_count": 125,
      "outputs": [
        {
          "output_type": "display_data",
          "data": {
            "text/plain": [
              "<Figure size 800x500 with 1 Axes>"
            ],
            "image/png": "[encoded data removed]"
          },
          "metadata": {}
        }
      ]
    },
    {
      "cell_type": "markdown",
      "source": [
        "*   There is not a higher concentration of -100 values for younger populations. It is slightly higher for ages 60-70 though."
      ],
      "metadata": {
        "id": "vyPemzOX9ENc"
      }
    },
    {
      "cell_type": "markdown",
      "source": [
        "For now, we will replace these values with np.nan to treat these values appropriately in data analysis.\n"
      ],
      "metadata": {
        "id": "l8JfwrFx7pi5"
      }
    },
    {
      "cell_type": "code",
      "execution_count": 126,
      "metadata": {
        "id": "kuf_gohPnI5u"
      },
      "outputs": [],
      "source": [
        "df['conrinc'] = df['conrinc'].replace(-100, np.nan)"
      ]
    },
    {
      "cell_type": "markdown",
      "metadata": {
        "id": "Zw-UfrjwoiuL"
      },
      "source": [
        "**Checking Other Columns**"
      ]
    },
    {
      "cell_type": "code",
      "execution_count": 127,
      "metadata": {
        "colab": {
          "base_uri": "https://localhost:8080/"
        },
        "id": "lcMZyOmRolG-",
        "outputId": "6d136123-ac7e-4107-fee3-65be25363d66"
      },
      "outputs": [
        {
          "output_type": "execute_result",
          "data": {
            "text/plain": [
              "array(['MALE', 'FEMALE'], dtype=object)"
            ]
          },
          "metadata": {},
          "execution_count": 127
        }
      ],
      "source": [
        "df['sex'].unique()"
      ]
    },
    {
      "cell_type": "code",
      "execution_count": 128,
      "metadata": {
        "colab": {
          "base_uri": "https://localhost:8080/"
        },
        "id": "9AB0e9_Uow3L",
        "outputId": "a73e58da-19e1-46ff-a4be-2682149e7395"
      },
      "outputs": [
        {
          "output_type": "execute_result",
          "data": {
            "text/plain": [
              "array(['Other', 'White', 'Black'], dtype=object)"
            ]
          },
          "metadata": {},
          "execution_count": 128
        }
      ],
      "source": [
        "df['race'].unique()"
      ]
    },
    {
      "cell_type": "markdown",
      "metadata": {
        "id": "qcDoIRbko0iP"
      },
      "source": [
        "\n",
        "*   This is important to note in our analysis\n",
        "\n"
      ]
    },
    {
      "cell_type": "code",
      "execution_count": 129,
      "metadata": {
        "colab": {
          "base_uri": "https://localhost:8080/"
        },
        "id": "F8vOsLjgo5nR",
        "outputId": "25e4b389-f417-4463-d964-745748e9c9fb"
      },
      "outputs": [
        {
          "output_type": "execute_result",
          "data": {
            "text/plain": [
              "array(['.i:  Inapplicable', 'FAVOR', 'OPPOSE',\n",
              "       '.d:  Do not Know/Cannot Choose', '.n:  No answer'], dtype=object)"
            ]
          },
          "metadata": {},
          "execution_count": 129
        }
      ],
      "source": [
        "df['gunlaw'].unique()"
      ]
    },
    {
      "cell_type": "code",
      "execution_count": 130,
      "metadata": {
        "colab": {
          "base_uri": "https://localhost:8080/"
        },
        "id": "Idn5D52_pO03",
        "outputId": "88c5e8b4-ec12-4e26-d99f-5e4534895a10"
      },
      "outputs": [
        {
          "output_type": "execute_result",
          "data": {
            "text/plain": [
              "array(['.i:  Inapplicable', 'NO', '.n:  No answer', 'YES',\n",
              "       '.d:  Do not Know/Cannot Choose'], dtype=object)"
            ]
          },
          "metadata": {},
          "execution_count": 130
        }
      ],
      "source": [
        "df['abany'].unique()"
      ]
    },
    {
      "cell_type": "code",
      "execution_count": 131,
      "metadata": {
        "colab": {
          "base_uri": "https://localhost:8080/"
        },
        "id": "7wPTZ35JpW2w",
        "outputId": "b1cc022f-ec67-45ba-dc6d-bbc4391dea38"
      },
      "outputs": [
        {
          "output_type": "execute_result",
          "data": {
            "text/plain": [
              "array(['.i:  Inapplicable', 'NO', 'YES', 'REFUSED',\n",
              "       '.d:  Do not Know/Cannot Choose'], dtype=object)"
            ]
          },
          "metadata": {},
          "execution_count": 131
        }
      ],
      "source": [
        "df['owngun'].unique()"
      ]
    },
    {
      "cell_type": "code",
      "execution_count": 132,
      "metadata": {
        "colab": {
          "base_uri": "https://localhost:8080/"
        },
        "id": "VuA0KnfwpnGP",
        "outputId": "fb9469af-a2cc-4907-fd45-c3f111aa6923"
      },
      "outputs": [
        {
          "output_type": "execute_result",
          "data": {
            "text/plain": [
              "array(['Ballot b', 'Ballot a', 'Ballot c'], dtype=object)"
            ]
          },
          "metadata": {},
          "execution_count": 132
        }
      ],
      "source": [
        "df['ballot'].unique()"
      ]
    },
    {
      "cell_type": "markdown",
      "metadata": {
        "id": "S5ECpmXKqdhy"
      },
      "source": [
        "\n",
        "*   We could merge '.i:  Inapplicable', '.d:  Do not Know/Cannot Choose', '.n:  No answer', and/or 'REFUSED', but they are each a little different I suppose, so I am not sure it is necessary. I feel it could go either way\n",
        "\n",
        "*   We could also replace those categories with np.nans.\n",
        "\n",
        "*   Ultimately, I think it depends on whether we feel the distinction is important for our analysis and/or the best representation of public opinion, which I think the distinction may be worthwhile, especially for those who \"Do not know / Cannot Choose.\"\n",
        "\n",
        "\n"
      ]
    },
    {
      "cell_type": "code",
      "execution_count": 133,
      "metadata": {
        "colab": {
          "base_uri": "https://localhost:8080/"
        },
        "id": "9uwy8uKPuk0e",
        "outputId": "fd2444a9-0746-44b7-d1a4-f563381f0f44"
      },
      "outputs": [
        {
          "output_type": "stream",
          "name": "stdout",
          "text": [
            "<class 'pandas.core.frame.DataFrame'>\n",
            "RangeIndex: 11771 entries, 0 to 11770\n",
            "Data columns (total 12 columns):\n",
            " #   Column    Non-Null Count  Dtype  \n",
            "---  ------    --------------  -----  \n",
            " 0   year      11771 non-null  int64  \n",
            " 1   id_       11771 non-null  int64  \n",
            " 2   age       11737 non-null  float64\n",
            " 3   sex       11771 non-null  object \n",
            " 4   race      11771 non-null  object \n",
            " 5   income06  11771 non-null  object \n",
            " 6   rincom06  11771 non-null  object \n",
            " 7   gunlaw    11771 non-null  object \n",
            " 8   abany     11771 non-null  object \n",
            " 9   owngun    11771 non-null  object \n",
            " 10  conrinc   6866 non-null   float64\n",
            " 11  ballot    11771 non-null  object \n",
            "dtypes: float64(2), int64(2), object(8)\n",
            "memory usage: 1.1+ MB\n"
          ]
        }
      ],
      "source": [
        "df.info()"
      ]
    },
    {
      "cell_type": "markdown",
      "metadata": {
        "id": "RbGODu3KumzR"
      },
      "source": [
        "\n",
        "\n",
        "*   Cleaned concise summary of our dataset.\n",
        "\n"
      ]
    },
    {
      "cell_type": "markdown",
      "metadata": {
        "id": "bXq0AHZ2tRKF"
      },
      "source": [
        "## Part 4: Numeric Summaries and Visualizations"
      ]
    },
    {
      "cell_type": "markdown",
      "metadata": {
        "id": "7ydjw5tvx5FR"
      },
      "source": [
        "**Research Question 1: How does gun ownership correlate with views on gun laws?**"
      ]
    },
    {
      "cell_type": "code",
      "source": [
        "# Function to filter labels based on percentage\n",
        "def filter_labels(values, labels):\n",
        "    total = sum(values)\n",
        "    filtered_labels = [label if (value / total * 100) > 2 else '' for label, value in zip(labels, values)]\n",
        "    return filtered_labels\n",
        "\n",
        "# Set up the figure with two subplots\n",
        "fig, axes = plt.subplots(1, 2, figsize=(12, 6))\n",
        "\n",
        "# Plot for people who do not own guns\n",
        "no_own_gun = df[df['owngun'] == 'NO']\n",
        "no_own_gun_gunlaw = no_own_gun['gunlaw'].value_counts()\n",
        "filtered_labels = filter_labels(no_own_gun_gunlaw.values, no_own_gun_gunlaw.index)\n",
        "axes[0].pie(no_own_gun_gunlaw, labels=filtered_labels, autopct=lambda p: f'{p:.1f}%' if p > 2 else '', startangle=90)\n",
        "axes[0].set_title('Non-Gun Owners Views on Gun Laws')\n",
        "\n",
        "# Plot for people who own guns\n",
        "own_gun = df[df['owngun'] == 'YES']\n",
        "own_gun_gunlaw = own_gun['gunlaw'].value_counts()\n",
        "filtered_labels = filter_labels(own_gun_gunlaw.values, own_gun_gunlaw.index)\n",
        "axes[1].pie(own_gun_gunlaw, labels=filtered_labels, autopct=lambda p: f'{p:.1f}%' if p > 2 else '', startangle=90)\n",
        "axes[1].set_title('Gun Owners Views on Gun Laws')\n",
        "\n",
        "plt.suptitle(\"Survey Question: 'Would you favor or oppose a law which would require a person to obtain a police permit before he or she could buy a gun?'\",\n",
        "             fontsize=12, fontweight=\"bold\")\n",
        "\n",
        "# Show the plot\n",
        "plt.legend(labels = own_gun_gunlaw.index, loc = \"lower right\",bbox_to_anchor = (1.3,0))\n",
        "plt.tight_layout()\n",
        "plt.show()\n"
      ],
      "metadata": {
        "id": "cRwIFNt7Ckbp",
        "outputId": "6603731b-6409-4bf7-d4c4-133c9ebd7538",
        "colab": {
          "base_uri": "https://localhost:8080/",
          "height": 572
        }
      },
      "execution_count": 162,
      "outputs": [
        {
          "output_type": "display_data",
          "data": {
            "text/plain": [
              "<Figure size 1200x600 with 2 Axes>"
            ],
            "image/png": "[encoded data removed]"
          },
          "metadata": {}
        }
      ]
    },
    {
      "cell_type": "markdown",
      "metadata": {
        "id": "aMhZ3cDg04Dy"
      },
      "source": [
        "\n",
        "\n",
        "*   For those who own a gun, 59.9% responded in favor of gun laws which would require a person to obtain a police permit before he or she could buy a gun, while for those who do not own a gun, 78.4% favor gun laws that would require a police permit.\n",
        "*   19.9% of those who do not own a gun oppose gun laws that would require a police permit to buy a gun, which is much less than the 39.2% of gun-owners who oppose such a law.\n",
        "*   While it seems like less gun-owners favor a law requiring a police permit to own a gun, I do think it is interesting to note that still a majority of gun-owner respondents favor such a gun law, and it could be interesting to see how many states do require such a permit.\n",
        "\n",
        "\n",
        "\n"
      ]
    },
    {
      "cell_type": "markdown",
      "metadata": {
        "id": "AbfLxKoi2TC2"
      },
      "source": [
        "**RQ2: Do opinions on abortion differ by gender and/or age?**"
      ]
    },
    {
      "cell_type": "code",
      "execution_count": 143,
      "metadata": {
        "colab": {
          "base_uri": "https://localhost:8080/",
          "height": 965
        },
        "id": "NxF2Kj-p3D41",
        "outputId": "fa59d1ce-155b-41ce-f789-ddab530b18ab"
      },
      "outputs": [
        {
          "output_type": "stream",
          "name": "stderr",
          "text": [
            "<ipython-input-143-7b5cc372ae81>:9: UserWarning: Tight layout not applied. The left and right margins cannot be made large enough to accommodate all Axes decorations.\n",
            "  plt.tight_layout()  # Adjust layout to prevent overlap\n"
          ]
        },
        {
          "output_type": "display_data",
          "data": {
            "text/plain": [
              "<Figure size 640x480 with 1 Axes>"
            ],
            "image/png": "[encoded data removed]"
          },
          "metadata": {}
        },
        {
          "output_type": "stream",
          "name": "stderr",
          "text": [
            "<ipython-input-143-7b5cc372ae81>:19: UserWarning: Tight layout not applied. The left and right margins cannot be made large enough to accommodate all Axes decorations.\n",
            "  plt.tight_layout()  # Adjust layout to prevent overlap\n"
          ]
        },
        {
          "output_type": "display_data",
          "data": {
            "text/plain": [
              "<Figure size 640x480 with 1 Axes>"
            ],
            "image/png": "[encoded data removed]"
          },
          "metadata": {}
        }
      ],
      "source": [
        "import seaborn as sns\n",
        "'''TO DO: Compare by proportion of gender rather than count'''\n",
        "# Compare abortion opinions by gender\n",
        "sns.countplot(data=df, x='sex', hue='abany')\n",
        "plt.title('Abortion Opinion by Gender')\n",
        "plt.xlabel('Gender')\n",
        "plt.ylabel('Count')\n",
        "plt.legend(title='Should it be possible for a pregnant woman to obtain a legal abortion if the woman wants it for any reason?', bbox_to_anchor=(1.05, 1), loc='upper left')  # Move legend off to the side\n",
        "plt.tight_layout()  # Adjust layout to prevent overlap\n",
        "plt.show()\n",
        "\n",
        "# Compare abortion opinions by age group\n",
        "df['age_group'] = pd.cut(df['age'], bins=[18, 30, 40, 50, 60, 100], labels=['18-30', '31-40', '41-50', '51-60', '60+'])\n",
        "sns.countplot(data=df, x='age_group', hue='abany')\n",
        "plt.title('Abortion Opinion by Age Group')\n",
        "plt.xlabel('Age Group')\n",
        "plt.ylabel('Count')\n",
        "plt.legend(title='Should it be possible for a pregnant woman to obtain a legal abortion if the woman wants it for any reason', bbox_to_anchor=(1.05, 1), loc='upper left')  # Move legend off to the side\n",
        "plt.tight_layout()  # Adjust layout to prevent overlap\n",
        "plt.show()\n"
      ]
    },
    {
      "cell_type": "markdown",
      "metadata": {
        "id": "QwNLbr2P3epK"
      },
      "source": [
        "* Interesting to add proportion of gender from the observations rather than count\n",
        "* Curious how we can go about not using count because i think count can be misleading.  \n",
        "\n",
        "*   It could be interesting to see if it differs by income level too if we clean that more\n",
        "*   It is interesting how many people responded with inapplicable.\n",
        "*   Seems like most people are saying no.\n",
        "*   This is across all years.\n",
        "*   Could make this prettier\n",
        "\n",
        "\n",
        "\n",
        "\n",
        "\n",
        "\n",
        "\n",
        "\n"
      ]
    },
    {
      "cell_type": "code",
      "execution_count": null,
      "metadata": {
        "id": "JdkjT8sJ45_a"
      },
      "outputs": [],
      "source": [
        "age_counts = df['age'].value_counts().sort_values()\n",
        "print(age_counts)"
      ]
    },
    {
      "cell_type": "code",
      "execution_count": null,
      "metadata": {
        "id": "-v_8EjdV45_a"
      },
      "outputs": [],
      "source": [
        "age_group_counts = df['age_group'].value_counts().sort_index()\n",
        "print(age_group_counts)"
      ]
    },
    {
      "cell_type": "markdown",
      "metadata": {
        "id": "bmfSl2fm6Z2V"
      },
      "source": [
        "**RQ3: How has abortion opinion changed overtime?**"
      ]
    },
    {
      "cell_type": "code",
      "execution_count": null,
      "metadata": {
        "id": "YizYjvvS5r34"
      },
      "outputs": [],
      "source": [
        "import seaborn as sns\n",
        "\n",
        "# Calculate percentage of \"Yes\" responses to 'abany' by year\n",
        "df_abany = df.groupby('year')['abany'].value_counts(normalize=True).unstack().fillna(0)\n",
        "df_abany['pct_yes'] = df_abany['YES'] * 100  # Convert proportion to percentage\n",
        "\n",
        "# Create the lineplot for pct_yes over time\n",
        "plt.figure(figsize=(10, 6))\n",
        "sns.lineplot(data=df_abany, x=df_abany.index, y='pct_yes', marker='o', color='b')\n",
        "\n",
        "# Title and labels\n",
        "plt.title('Percentage of People Who Said \"Yes\" to Abortion Opinion Over Time', fontsize=16)\n",
        "plt.xlabel('Year', fontsize=12)\n",
        "plt.ylabel('Percentage (%)', fontsize=12)\n",
        "plt.grid(True)\n",
        "\n",
        "# Display the plot\n",
        "plt.tight_layout()\n",
        "plt.show()\n"
      ]
    },
    {
      "cell_type": "markdown",
      "metadata": {
        "id": "071zFkrl52to"
      },
      "source": [
        "\n",
        "\n",
        "*   This is very interesting\n",
        "*   Should probably include the exact question in the graph\n",
        "*   This also includes inapplicable answer so important to also show that 30% in favor for example, does not necessarily mean 70% opposed.\n",
        "\n",
        "\n",
        "\n"
      ]
    },
    {
      "cell_type": "markdown",
      "metadata": {
        "id": "-luJr1TTD4QB"
      },
      "source": [
        "**RQ4: How do views on abortion differ by attitudes on gun laws?**"
      ]
    },
    {
      "cell_type": "code",
      "execution_count": null,
      "metadata": {
        "id": "x29jahnhC9wH"
      },
      "outputs": [],
      "source": [
        "# Filter data for people who favor gun laws\n",
        "favor_gun = df[df['gunlaw'] == 'FAVOR']  # Replace 'FAVOR' with the actual label for those who favor gun laws\n",
        "# Filter data for people who oppose gun laws\n",
        "oppose_gun = df[df['gunlaw'] == 'OPPOSE']  # Replace 'OPPOSE' with the actual label for those who oppose gun laws\n",
        "\n",
        "# Count abortion opinions for those who favor and oppose gun laws\n",
        "abany_favor_gun = favor_gun['abany'].value_counts()\n",
        "abany_oppose_gun = oppose_gun['abany'].value_counts()\n",
        "\n",
        "# Set up the figure with two subplots\n",
        "fig, axes = plt.subplots(1, 2, figsize=(12, 6))\n",
        "\n",
        "# Pie chart for people who favor gun laws\n",
        "axes[0].pie(abany_favor_gun, labels=abany_favor_gun.index, autopct='%1.1f%%', startangle=90, colors=['skyblue', 'orange'],\n",
        "            wedgeprops={'edgecolor': 'black'})\n",
        "axes[0].set_title('Favor Gun Laws: Views on Abortion')\n",
        "\n",
        "# Pie chart for people who oppose gun laws\n",
        "axes[1].pie(abany_oppose_gun, labels=abany_oppose_gun.index, autopct='%1.1f%%', startangle=90, colors=['lightgreen', 'salmon'],\n",
        "            wedgeprops={'edgecolor': 'black'})\n",
        "axes[1].set_title('Oppose Gun Laws: Views on Abortion')\n",
        "\n",
        "# Adjust layout to prevent overlap\n",
        "plt.tight_layout()\n",
        "plt.show()\n"
      ]
    },
    {
      "cell_type": "markdown",
      "metadata": {
        "id": "gr_KGKp_Dlmg"
      },
      "source": [
        "\n",
        "\n",
        "*   I find this particularly interesting because oppose gun == less government intervention, but those who oppose gun laws are more against abortion (more government intervention)\n",
        "\n"
      ]
    },
    {
      "cell_type": "code",
      "execution_count": null,
      "metadata": {
        "id": "ruhz0Jc945_a"
      },
      "outputs": [],
      "source": [
        "'''Add visualization abt income and relationship of income and views on gun laws and abortion'''"
      ]
    },
    {
      "cell_type": "code",
      "execution_count": null,
      "metadata": {
        "id": "QZ4xwR5U45_a"
      },
      "outputs": [],
      "source": [
        "''' Add visualization on how gun laws have changed over time'''"
      ]
    },
    {
      "cell_type": "markdown",
      "metadata": {
        "id": "UmNyaBfX45_a"
      },
      "source": [
        "## Part 5: Describe Findings"
      ]
    },
    {
      "cell_type": "markdown",
      "metadata": {
        "id": "swLoW--z45_b"
      },
      "source": [
        "#### Gun Ownership\n",
        "The analysis of gun ownership in relation to support for stricter gun laws reveals a clear correlation. Among gun owners, 59.9% favor requiring a police permit to purchase a firearm, while 39.2% oppose such a law. In contrast, among non-gun owners, 78.4% favor stricter gun laws, whereas only 19.9% oppose them.\n",
        "\n",
        "While it is expected that those who own guns are less likely to support gun control measures compared to non-gun owners, it is notable that a majority (nearly 60%) of gun owners still favor such a law. This suggests that while gun ownership influences attitudes toward regulation, it does not necessarily indicate blanket opposition to firearm restrictions. This finding raises further questions about how gun laws are perceived across different political and regional backgrounds, and it would be interesting to compare this data against actual state-level gun permit requirements."
      ]
    },
    {
      "cell_type": "markdown",
      "metadata": {
        "id": "bej-BBpC45_b"
      },
      "source": [
        "#### Abortion by Gender and Age\n",
        "\n",
        "When analyzing abortion opinions based on gender, we observe that responses differ between men and women. COME BACK TO THIS\n",
        "\n",
        "Breaking down abortion opinions by age, we observe an interesting generational trend. Younger respondents (aged 18-30) tend to be more supportive of unrestricted abortion access, while opposition appears to increase with age. The 60+ age group has the highest proportion of individuals opposing abortion rights, suggesting a generational shift in societal views. This trend may reflect broader cultural changes, political shifts, or the influence of historical events that shaped different age groups' perspectives on reproductive rights.\n"
      ]
    }
  ],
  "metadata": {
    "colab": {
      "provenance": []
    },
    "kernelspec": {
      "display_name": "Python 3",
      "language": "python",
      "name": "python3"
    },
    "language_info": {
      "codemirror_mode": {
        "name": "ipython",
        "version": 3
      },
      "file_extension": ".py",
      "mimetype": "text/x-python",
      "name": "python",
      "nbconvert_exporter": "python",
      "pygments_lexer": "ipython3",
      "version": "3.12.0"
    }
  },
  "nbformat": 4,
  "nbformat_minor": 0
}